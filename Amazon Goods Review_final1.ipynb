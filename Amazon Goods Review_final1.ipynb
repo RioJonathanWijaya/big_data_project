{
 "cells": [
  {
   "cell_type": "code",
   "execution_count": 1,
   "id": "a4b320ff-b614-44de-9a00-92aab17a27bc",
   "metadata": {},
   "outputs": [],
   "source": [
    "#Import necessary library\n",
    "\n",
    "import numpy as np\n",
    "import pandas as pd\n",
    "import matplotlib.pyplot as plt\n",
    "import seaborn as sns\n",
    "from sklearn.model_selection import train_test_split\n",
    "import scipy.sparse\n",
    "from scipy.sparse import csr_matrix\n",
    "\n",
    "from pyspark.sql import SparkSession\n",
    "from pyspark.sql.functions import *\n",
    "from pyspark.sql.types import *\n",
    "from pyspark.ml.feature import StringIndexer\n",
    "from pyspark.ml.feature import VectorAssembler\n",
    "from pyspark.ml import Pipeline\n",
    "\n",
    "from pyspark.ml.evaluation import RegressionEvaluator\n",
    "from pyspark.ml.recommendation import ALS\n",
    "from pyspark.ml.tuning import ParamGridBuilder, CrossValidator\n",
    "\n",
    "\n",
    "\n",
    "\n",
    "spark = SparkSession.builder.master('local').appName('goodsRecommendation').getOrCreate()"
   ]
  },
  {
   "cell_type": "code",
   "execution_count": 2,
   "id": "b3a7f065-65af-4507-8162-87eee45e9e94",
   "metadata": {},
   "outputs": [
    {
     "name": "stdout",
     "output_type": "stream",
     "text": [
      "+---+----------+--------------+-----------------------------------+--------------------+----------------------+-----+----------+--------------------------------------------------+--------------------------------------------------+\n",
      "| Id| ProductId|        UserId|                        ProfileName|HelpfulnessNumerator|HelpfulnessDenominator|Score|      Time|                                           Summary|                                              Text|\n",
      "+---+----------+--------------+-----------------------------------+--------------------+----------------------+-----+----------+--------------------------------------------------+--------------------------------------------------+\n",
      "|  1|B001E4KFG0|A3SGXH7AUHU8GW|                         delmartian|                   1|                     1|    5|1303862400|                             Good Quality Dog Food|I have bought several of the Vitality canned do...|\n",
      "|  2|B00813GRG4|A1D87F6ZCVE5NK|                             dll pa|                   0|                     0|    1|1346976000|                                 Not as Advertised|\"Product arrived labeled as Jumbo Salted Peanut...|\n",
      "|  3|B000LQOCH0| ABXLMWJIXXAIN|\"Natalia Corres \"\"Natalia Corres\"\"\"|                   1|                     1|    4|1219017600|                         \"\"\"Delight\"\" says it all\"|\"This is a confection that has been around a fe...|\n",
      "|  4|B000UA0QIQ|A395BORC6FGVXV|                               Karl|                   3|                     3|    2|1307923200|                                    Cough Medicine|If you are looking for the secret ingredient in...|\n",
      "|  5|B006K2ZZ7K|A1UQRSCLF8GW1T|  \"Michael D. Bigham \"\"M. Wassir\"\"\"|                   0|                     0|    5|1350777600|                                       Great taffy|Great taffy at a great price.  There was a wide...|\n",
      "|  6|B006K2ZZ7K| ADT0SRK1MGOEU|                     Twoapennything|                   0|                     0|    4|1342051200|                                        Nice Taffy|I got a wild hair for taffy and ordered this fi...|\n",
      "|  7|B006K2ZZ7K|A1SP2KVKFXXRU1|                  David C. Sullivan|                   0|                     0|    5|1340150400|     Great!  Just as good as the expensive brands!|This saltwater taffy had great flavors and was ...|\n",
      "|  8|B006K2ZZ7K|A3JRGQVEQN31IQ|                 Pamela G. Williams|                   0|                     0|    5|1336003200|                            Wonderful, tasty taffy|This taffy is so good.  It is very soft and che...|\n",
      "|  9|B000E7L2R4|A1MZYO9TZK0BBI|                           R. James|                   1|                     1|    5|1322006400|                                        Yay Barley|Right now I'm mostly just sprouting this so my ...|\n",
      "| 10|B00171APVA|A21BT40VZCCYT4|                      Carol A. Reed|                   0|                     0|    5|1351209600|                                  Healthy Dog Food|This is a very healthy dog food. Good for their...|\n",
      "| 11|B0001PB9FE|A3HDKO7OW0QNK4|                       Canadian Fan|                   1|                     1|    5|1107820800|                   The Best Hot Sauce in the World|I don't know if it's the cactus or the tequila ...|\n",
      "| 12|B0009XLVG0|A2725IB4YY9JEB|         \"A Poeng \"\"SparkyGoHome\"\"\"|                   4|                     4|    5|1282867200|\"My cats LOVE this \"\"diet\"\" food better than th...|One of my boys needed to lose some weight and t...|\n",
      "| 13|B0009XLVG0| A327PCT23YH90|                                 LT|                   1|                     1|    1|1339545600|              My Cats Are Not Fans of the New Food|My cats have been happily eating Felidae Platin...|\n",
      "| 14|B001GVISJM|A18ECVX2RJ7HUE|                \"willie \"\"roadie\"\"\"|                   2|                     2|    4|1288915200|                                 fresh and greasy!|good flavor! these came securely packed... they...|\n",
      "| 15|B001GVISJM|A2MUGFV2TDQ47K|            \"Lynrie \"\"Oh HELL no\"\"\"|                   4|                     5|    5|1268352000|                      Strawberry Twizzlers - Yummy|The Strawberry Twizzlers are my guilty pleasure...|\n",
      "| 16|B001GVISJM|A1CZX3CP8IKQIJ|                       Brian A. Lee|                   4|                     5|    5|1262044800|          Lots of twizzlers, just what you expect.|My daughter loves twizzlers and this shipment o...|\n",
      "| 17|B001GVISJM|A3KLWF6WQ5BNYO|                     Erica Neathery|                   0|                     0|    2|1348099200|                                        poor taste|I love eating them and they are good for watchi...|\n",
      "| 18|B001GVISJM| AFKW14U97Z6QO|                              Becca|                   0|                     0|    5|1345075200|                                          Love it!|I am very satisfied with my Twizzler purchase. ...|\n",
      "| 19|B001GVISJM|A2A9X58G2GTBLP|                            Wolfee1|                   0|                     0|    5|1324598400|                                GREAT SWEET CANDY!|Twizzlers, Strawberry my childhood favorite can...|\n",
      "| 20|B001GVISJM|A3IV7CL2C13K2U|                               Greg|                   0|                     0|    5|1318032000|                           Home delivered twizlers|Candy was delivered very fast and was purchased...|\n",
      "| 21|B001GVISJM|A1WO0KGLPR5PV6|                           mom2emma|                   0|                     0|    5|1313452800|                                      Always fresh|My husband is a Twizzlers addict.  We've bought...|\n",
      "| 22|B001GVISJM| AZOF9E17RGZH8|                     Tammy Anderson|                   0|                     0|    5|1308960000|                                         TWIZZLERS|\"I bought these for my husband who is currently...|\n",
      "| 23|B001GVISJM| ARYVQL4N737A1|                      Charles Brown|                   0|                     0|    5|1304899200|                                Delicious product!|I can remember buying this candy as a kid and t...|\n",
      "| 24|B001GVISJM| AJ613OLZZUG7V|                             Mare's|                   0|                     0|    5|1304467200|                                         Twizzlers|I love this candy.  After weight watchers I had...|\n",
      "| 25|B001GVISJM|A22P2J09NJ9HKE|    \"S. Cabanaugh \"\"jilly pepper\"\"\"|                   0|                     0|    5|1295481600|                     Please sell these in Mexico!!|I have lived out of the US for over 7 yrs now, ...|\n",
      "| 26|B001GVISJM|A3FONPR03H3PJS|   \"Deborah S. Linzer \"\"Cat Lady\"\"\"|                   0|                     0|    5|1288310400|                            Twizzlers - Strawberry|\"Product received is as advertised.<br /><br />...|\n",
      "| 27|B001GVISJM|A3RXAU2N8KV45G|                             lady21|                   0|                     1|    1|1332633600|                                   Nasty No flavor|The candy is just red , No flavor . Just  plan ...|\n",
      "| 28|B001GVISJM| AAAS38B98HMIK|                       Heather Dube|                   0|                     1|    4|1331856000|                       Great Bargain for the Price|I was so glad Amazon carried these batteries.  ...|\n",
      "| 29|B00144C10S|A2F4LZVGFLD1OB|                             DaisyH|                   0|                     0|    5|1338854400|                                            YUMMY!|I got this for my Mum who is not diabetic but n...|\n",
      "| 30|B0001PB9FY|A3HDKO7OW0QNK4|                       Canadian Fan|                   1|                     1|    5|1107820800|                   The Best Hot Sauce in the World|I don't know if it's the cactus or the tequila ...|\n",
      "+---+----------+--------------+-----------------------------------+--------------------+----------------------+-----+----------+--------------------------------------------------+--------------------------------------------------+\n",
      "only showing top 30 rows\n",
      "\n",
      "root\n",
      " |-- Id: string (nullable = true)\n",
      " |-- ProductId: string (nullable = true)\n",
      " |-- UserId: string (nullable = true)\n",
      " |-- ProfileName: string (nullable = true)\n",
      " |-- HelpfulnessNumerator: string (nullable = true)\n",
      " |-- HelpfulnessDenominator: string (nullable = true)\n",
      " |-- Score: string (nullable = true)\n",
      " |-- Time: string (nullable = true)\n",
      " |-- Summary: string (nullable = true)\n",
      " |-- Text: string (nullable = true)\n",
      "\n"
     ]
    }
   ],
   "source": [
    "#Read the CSV File containing the data\n",
    "df_recommendation = spark.read.format('csv').options(header=True).load('Reviews.csv')\n",
    "df_recommendation.show(30, truncate=50)\n",
    "df_recommendation.printSchema()"
   ]
  },
  {
   "cell_type": "markdown",
   "id": "a720cbaf-69b0-4753-80a8-e10bd58368ca",
   "metadata": {},
   "source": [
    "# Preprocessing and Cleaning"
   ]
  },
  {
   "cell_type": "code",
   "execution_count": 3,
   "id": "1b9d8cd5-6951-47ff-a74a-c6a99b80a5c5",
   "metadata": {},
   "outputs": [
    {
     "name": "stdout",
     "output_type": "stream",
     "text": [
      "+---+----------+--------------+-------------------------------+--------------------+----------------------+-----+----------+--------------------------------------------------+--------------------------------------------------+\n",
      "| Id| ProductId|        UserId|                    ProfileName|HelpfulnessNumerator|HelpfulnessDenominator|Score|      Time|                                           Summary|                                              Text|\n",
      "+---+----------+--------------+-------------------------------+--------------------+----------------------+-----+----------+--------------------------------------------------+--------------------------------------------------+\n",
      "|  1|B001E4KFG0|A3SGXH7AUHU8GW|                     delmartian|                   1|                     1|    5|1303862400|                             Good Quality Dog Food|I have bought several of the Vitality canned do...|\n",
      "|  2|B00813GRG4|A1D87F6ZCVE5NK|                         dll pa|                   0|                     0|    1|1346976000|                                 Not as Advertised|\"Product arrived labeled as Jumbo Salted Peanut...|\n",
      "|  3|B000LQOCH0| ABXLMWJIXXAIN|Natalia Corres \"Natalia Corres\"|                   1|                     1|    4|1219017600|                         \"\"\"Delight\"\" says it all\"|\"This is a confection that has been around a fe...|\n",
      "|  4|B000UA0QIQ|A395BORC6FGVXV|                           Karl|                   3|                     3|    2|1307923200|                                    Cough Medicine|If you are looking for the secret ingredient in...|\n",
      "|  5|B006K2ZZ7K|A1UQRSCLF8GW1T|  Michael D. Bigham \"M. Wassir\"|                   0|                     0|    5|1350777600|                                       Great taffy|Great taffy at a great price.  There was a wide...|\n",
      "|  6|B006K2ZZ7K| ADT0SRK1MGOEU|                 Twoapennything|                   0|                     0|    4|1342051200|                                        Nice Taffy|I got a wild hair for taffy and ordered this fi...|\n",
      "|  7|B006K2ZZ7K|A1SP2KVKFXXRU1|              David C. Sullivan|                   0|                     0|    5|1340150400|     Great!  Just as good as the expensive brands!|This saltwater taffy had great flavors and was ...|\n",
      "|  8|B006K2ZZ7K|A3JRGQVEQN31IQ|             Pamela G. Williams|                   0|                     0|    5|1336003200|                            Wonderful, tasty taffy|This taffy is so good.  It is very soft and che...|\n",
      "|  9|B000E7L2R4|A1MZYO9TZK0BBI|                       R. James|                   1|                     1|    5|1322006400|                                        Yay Barley|Right now I'm mostly just sprouting this so my ...|\n",
      "| 10|B00171APVA|A21BT40VZCCYT4|                  Carol A. Reed|                   0|                     0|    5|1351209600|                                  Healthy Dog Food|This is a very healthy dog food. Good for their...|\n",
      "| 11|B0001PB9FE|A3HDKO7OW0QNK4|                   Canadian Fan|                   1|                     1|    5|1107820800|                   The Best Hot Sauce in the World|I don't know if it's the cactus or the tequila ...|\n",
      "| 12|B0009XLVG0|A2725IB4YY9JEB|         A Poeng \"SparkyGoHome\"|                   4|                     4|    5|1282867200|\"My cats LOVE this \"\"diet\"\" food better than th...|One of my boys needed to lose some weight and t...|\n",
      "| 13|B0009XLVG0| A327PCT23YH90|                             LT|                   1|                     1|    1|1339545600|              My Cats Are Not Fans of the New Food|My cats have been happily eating Felidae Platin...|\n",
      "| 14|B001GVISJM|A18ECVX2RJ7HUE|                willie \"roadie\"|                   2|                     2|    4|1288915200|                                 fresh and greasy!|good flavor! these came securely packed... they...|\n",
      "| 15|B001GVISJM|A2MUGFV2TDQ47K|            Lynrie \"Oh HELL no\"|                   4|                     5|    5|1268352000|                      Strawberry Twizzlers - Yummy|The Strawberry Twizzlers are my guilty pleasure...|\n",
      "| 16|B001GVISJM|A1CZX3CP8IKQIJ|                   Brian A. Lee|                   4|                     5|    5|1262044800|          Lots of twizzlers, just what you expect.|My daughter loves twizzlers and this shipment o...|\n",
      "| 17|B001GVISJM|A3KLWF6WQ5BNYO|                 Erica Neathery|                   0|                     0|    2|1348099200|                                        poor taste|I love eating them and they are good for watchi...|\n",
      "| 18|B001GVISJM| AFKW14U97Z6QO|                          Becca|                   0|                     0|    5|1345075200|                                          Love it!|I am very satisfied with my Twizzler purchase. ...|\n",
      "| 19|B001GVISJM|A2A9X58G2GTBLP|                        Wolfee1|                   0|                     0|    5|1324598400|                                GREAT SWEET CANDY!|Twizzlers, Strawberry my childhood favorite can...|\n",
      "| 20|B001GVISJM|A3IV7CL2C13K2U|                           Greg|                   0|                     0|    5|1318032000|                           Home delivered twizlers|Candy was delivered very fast and was purchased...|\n",
      "| 21|B001GVISJM|A1WO0KGLPR5PV6|                       mom2emma|                   0|                     0|    5|1313452800|                                      Always fresh|My husband is a Twizzlers addict.  We've bought...|\n",
      "| 22|B001GVISJM| AZOF9E17RGZH8|                 Tammy Anderson|                   0|                     0|    5|1308960000|                                         TWIZZLERS|\"I bought these for my husband who is currently...|\n",
      "| 23|B001GVISJM| ARYVQL4N737A1|                  Charles Brown|                   0|                     0|    5|1304899200|                                Delicious product!|I can remember buying this candy as a kid and t...|\n",
      "| 24|B001GVISJM| AJ613OLZZUG7V|                         Mare's|                   0|                     0|    5|1304467200|                                         Twizzlers|I love this candy.  After weight watchers I had...|\n",
      "| 25|B001GVISJM|A22P2J09NJ9HKE|    S. Cabanaugh \"jilly pepper\"|                   0|                     0|    5|1295481600|                     Please sell these in Mexico!!|I have lived out of the US for over 7 yrs now, ...|\n",
      "| 26|B001GVISJM|A3FONPR03H3PJS|   Deborah S. Linzer \"Cat Lady\"|                   0|                     0|    5|1288310400|                            Twizzlers - Strawberry|\"Product received is as advertised.<br /><br />...|\n",
      "| 27|B001GVISJM|A3RXAU2N8KV45G|                         lady21|                   0|                     1|    1|1332633600|                                   Nasty No flavor|The candy is just red , No flavor . Just  plan ...|\n",
      "| 28|B001GVISJM| AAAS38B98HMIK|                   Heather Dube|                   0|                     1|    4|1331856000|                       Great Bargain for the Price|I was so glad Amazon carried these batteries.  ...|\n",
      "| 29|B00144C10S|A2F4LZVGFLD1OB|                         DaisyH|                   0|                     0|    5|1338854400|                                            YUMMY!|I got this for my Mum who is not diabetic but n...|\n",
      "| 30|B0001PB9FY|A3HDKO7OW0QNK4|                   Canadian Fan|                   1|                     1|    5|1107820800|                   The Best Hot Sauce in the World|I don't know if it's the cactus or the tequila ...|\n",
      "+---+----------+--------------+-------------------------------+--------------------+----------------------+-----+----------+--------------------------------------------------+--------------------------------------------------+\n",
      "only showing top 30 rows\n",
      "\n"
     ]
    }
   ],
   "source": [
    "# Define a UDF function to remove quotes from the ProfileName\n",
    "\n",
    "def remove_quotes(name):\n",
    "    return name.replace('\\\"\\\"','*').strip('\"').replace('*','\"')\n",
    "\n",
    "remove_quotes_udf = udf(lambda x: remove_quotes(x))\n",
    "\n",
    "# Remove quotes from the ProfileName\n",
    "\n",
    "df_recommendation = df_recommendation.withColumn('ProfileName', remove_quotes_udf('ProfileName'))\n",
    "df_recommendation.show(30, truncate=50)"
   ]
  },
  {
   "cell_type": "code",
   "execution_count": 4,
   "id": "101c17a6-5c23-4e24-9d84-0060754e74c7",
   "metadata": {},
   "outputs": [
    {
     "name": "stdout",
     "output_type": "stream",
     "text": [
      "root\n",
      " |-- Id: string (nullable = true)\n",
      " |-- ProductId: string (nullable = true)\n",
      " |-- UserId: string (nullable = true)\n",
      " |-- ProfileName: string (nullable = true)\n",
      " |-- HelpfulnessNumerator: string (nullable = true)\n",
      " |-- HelpfulnessDenominator: string (nullable = true)\n",
      " |-- Score: string (nullable = true)\n",
      " |-- Time: string (nullable = true)\n",
      " |-- Summary: string (nullable = true)\n",
      " |-- Text: string (nullable = true)\n",
      "\n",
      "root\n",
      " |-- Id: integer (nullable = true)\n",
      " |-- ProductId: string (nullable = true)\n",
      " |-- UserId: string (nullable = true)\n",
      " |-- ProfileName: string (nullable = true)\n",
      " |-- HelpfulnessNumerator: integer (nullable = true)\n",
      " |-- HelpfulnessDenominator: integer (nullable = true)\n",
      " |-- Score: integer (nullable = true)\n",
      " |-- Time: string (nullable = true)\n",
      " |-- Summary: string (nullable = true)\n",
      " |-- Text: string (nullable = true)\n",
      "\n"
     ]
    }
   ],
   "source": [
    "df_recommendation.printSchema()\n",
    "\n",
    "#Change Data Type Column Id, ProductId, UserId, HelpfulnessNumerator, HelpfulnessDenominator, Score, and Time from String to Int\n",
    "df_recommendation = df_recommendation.withColumn('Id', df_recommendation['Id'].cast('int'))\n",
    "df_recommendation = df_recommendation.withColumn('HelpfulnessNumerator', df_recommendation['HelpfulnessNumerator'].cast('int'))\n",
    "df_recommendation = df_recommendation.withColumn('HelpfulnessDenominator', df_recommendation['HelpfulnessDenominator'].cast('int'))\n",
    "df_recommendation = df_recommendation.withColumn('Score', df_recommendation['Score'].cast('int'))\n",
    "\n",
    "#After changing data type\n",
    "df_recommendation.printSchema()"
   ]
  },
  {
   "cell_type": "code",
   "execution_count": 5,
   "id": "c526d020-3cd1-423c-b4db-1ee8d1a824c4",
   "metadata": {},
   "outputs": [
    {
     "name": "stdout",
     "output_type": "stream",
     "text": [
      "+---+---------+------+-----------+--------------------+----------------------+-----+----+-------+----+\n",
      "| Id|ProductId|UserId|ProfileName|HelpfulnessNumerator|HelpfulnessDenominator|Score|Time|Summary|Text|\n",
      "+---+---------+------+-----------+--------------------+----------------------+-----+----+-------+----+\n",
      "|  0|        0|     0|         34|                2751|                   886|  292|   5|      8|  10|\n",
      "+---+---------+------+-----------+--------------------+----------------------+-----+----+-------+----+\n",
      "\n"
     ]
    },
    {
     "data": {
      "text/plain": [
       "568454"
      ]
     },
     "execution_count": 5,
     "metadata": {},
     "output_type": "execute_result"
    }
   ],
   "source": [
    "#Check for null data\n",
    "df_recommendation.select([count((when(isnan(c) | isnull(c), 1))).alias(c) for c in df_recommendation.columns]).show()\n",
    "df_recommendation.count()"
   ]
  },
  {
   "cell_type": "markdown",
   "id": "a9c4c600-8998-40b2-a9ac-f79da1d51a49",
   "metadata": {},
   "source": [
    "Banyak data yang memiliki nilai null sehingga kita harus melakukan cleaning data\n",
    "Dikarenakan jumlah data yang dimiliki dapat dikatakan banya, maka kita akan menghapus row yang memiliki value null"
   ]
  },
  {
   "cell_type": "code",
   "execution_count": 6,
   "id": "f546a487-5896-4fde-ae03-fbcbc3b14074",
   "metadata": {},
   "outputs": [
    {
     "name": "stdout",
     "output_type": "stream",
     "text": [
      "+---+---------+------+-----------+--------------------+----------------------+-----+----+-------+----+\n",
      "| Id|ProductId|UserId|ProfileName|HelpfulnessNumerator|HelpfulnessDenominator|Score|Time|Summary|Text|\n",
      "+---+---------+------+-----------+--------------------+----------------------+-----+----+-------+----+\n",
      "|  0|        0|     0|         34|                   0|                     0|    0|   0|      2|   0|\n",
      "+---+---------+------+-----------+--------------------+----------------------+-----+----+-------+----+\n",
      "\n"
     ]
    }
   ],
   "source": [
    "# Remove null values (only score, product id, HelpfulnessNumerator, HelpfulnessDenominator because can't replace with other number)\n",
    "df_recommendation = df_recommendation.dropna(subset=['ProductId','Score', 'HelpfulnessNumerator', 'HelpfulnessDenominator'])\n",
    "\n",
    "# Check null values after cleaning\n",
    "df_recommendation.select([count((when(isnan(c) | isnull(c), 1))).alias(c) for c in df_recommendation.columns]).show()"
   ]
  },
  {
   "cell_type": "code",
   "execution_count": 7,
   "id": "f70dbfa1-860c-4bae-9dd8-0e3e83a02a31",
   "metadata": {},
   "outputs": [
    {
     "name": "stdout",
     "output_type": "stream",
     "text": [
      "+---+---------+------+-----------+--------------------+----------------------+-----+----+-------+----+\n",
      "| Id|ProductId|userId|ProfileName|HelpfulnessNumerator|HelpfulnessDenominator|Score|Time|Summary|Text|\n",
      "+---+---------+------+-----------+--------------------+----------------------+-----+----+-------+----+\n",
      "|  0|        0|     0|          0|                   0|                     0|    0|   0|      0|   0|\n",
      "+---+---------+------+-----------+--------------------+----------------------+-----+----+-------+----+\n",
      "\n"
     ]
    }
   ],
   "source": [
    "#Change ProfileId, UserId ,Time, Summary, and Text\n",
    "\n",
    "new_value = \"Unknown\"\n",
    "df_recommendation_cleaned = df_recommendation \\\n",
    "    .withColumn(\"userId\", when(df_recommendation[\"userId\"].isNull(), \"A1\").otherwise(df_recommendation[\"userId\"])) \\\n",
    "    .withColumn(\"Summary\", when(df_recommendation[\"Summary\"].isNull(), new_value).otherwise(df_recommendation[\"Summary\"])) \\\n",
    "    .withColumn(\"Text\", when(df_recommendation[\"Text\"].isNull(), new_value).otherwise(df_recommendation[\"Text\"])) \\\n",
    "    .withColumn(\"Time\", when(df_recommendation[\"Time\"].isNull(), new_value).otherwise(df_recommendation[\"Time\"])) \\\n",
    "\n",
    "df_recommendation_cleaned = df_recommendation_cleaned.withColumn(\"ProfileName\", lower(df_recommendation_cleaned[\"ProfileName\"])) \\\n",
    "    .withColumn(\"Time\", lower(df_recommendation_cleaned[\"Time\"])) \\\n",
    "    .withColumn(\"Summary\", lower(df_recommendation_cleaned[\"Summary\"]))\n",
    "\n",
    "\n",
    "df_recommendation_cleaned = df_recommendation_cleaned.withColumn(\"ProfileName\", regexp_replace(\"ProfileName\", \"nan\", new_value)) \\\n",
    "    .withColumn(\"Time\", regexp_replace(\"Time\", \"nan\", new_value)) \\\n",
    "    .withColumn(\"Summary\", regexp_replace(\"Summary\", \"nan\", new_value))\n",
    "df_recommendation_cleaned.select([count((when(isnan(c) | isnull(c), 1))).alias(c) for c in df_recommendation_cleaned.columns]).show()\n"
   ]
  },
  {
   "cell_type": "code",
   "execution_count": 8,
   "id": "84e86303-a108-4ccb-b65b-8bb286a5b3f7",
   "metadata": {},
   "outputs": [
    {
     "data": {
      "text/plain": [
       "565703"
      ]
     },
     "execution_count": 8,
     "metadata": {},
     "output_type": "execute_result"
    }
   ],
   "source": [
    "df_recommendation_cleaned.count()"
   ]
  },
  {
   "cell_type": "markdown",
   "id": "bfb8de3c-203f-42c1-9a63-251bebc06bd7",
   "metadata": {},
   "source": [
    "# EDA"
   ]
  },
  {
   "cell_type": "code",
   "execution_count": 9,
   "id": "237fc81b-2543-461b-a7ce-1d7e7bc1029f",
   "metadata": {},
   "outputs": [
    {
     "name": "stdout",
     "output_type": "stream",
     "text": [
      "+---+----------+--------------+--------------------+--------------------+----------------------+-----+----------+--------------------+--------------------+\n",
      "| Id| ProductId|        userId|         ProfileName|HelpfulnessNumerator|HelpfulnessDenominator|Score|      Time|             Summary|                Text|\n",
      "+---+----------+--------------+--------------------+--------------------+----------------------+-----+----------+--------------------+--------------------+\n",
      "|  1|B001E4KFG0|A3SGXH7AUHU8GW|          delmartian|                   1|                     1|    5|1303862400|good quality dog ...|I have bought sev...|\n",
      "|  2|B00813GRG4|A1D87F6ZCVE5NK|              dll pa|                   0|                     0|    1|1346976000|   not as advertised|\"Product arrived ...|\n",
      "|  3|B000LQOCH0| ABXLMWJIXXAIN|natalia corres \"n...|                   1|                     1|    4|1219017600|\"\"\"delight\"\" says...|\"This is a confec...|\n",
      "|  4|B000UA0QIQ|A395BORC6FGVXV|                karl|                   3|                     3|    2|1307923200|      cough medicine|If you are lookin...|\n",
      "|  5|B006K2ZZ7K|A1UQRSCLF8GW1T|michael d. bigham...|                   0|                     0|    5|1350777600|         great taffy|Great taffy at a ...|\n",
      "|  6|B006K2ZZ7K| ADT0SRK1MGOEU|      twoapennything|                   0|                     0|    4|1342051200|          nice taffy|I got a wild hair...|\n",
      "|  7|B006K2ZZ7K|A1SP2KVKFXXRU1|   david c. sullivan|                   0|                     0|    5|1340150400|great!  just as g...|This saltwater ta...|\n",
      "|  8|B006K2ZZ7K|A3JRGQVEQN31IQ|  pamela g. williams|                   0|                     0|    5|1336003200|wonderful, tasty ...|This taffy is so ...|\n",
      "|  9|B000E7L2R4|A1MZYO9TZK0BBI|            r. james|                   1|                     1|    5|1322006400|          yay barley|Right now I'm mos...|\n",
      "| 10|B00171APVA|A21BT40VZCCYT4|       carol a. reed|                   0|                     0|    5|1351209600|    healthy dog food|This is a very he...|\n",
      "| 11|B0001PB9FE|A3HDKO7OW0QNK4|        canadian fan|                   1|                     1|    5|1107820800|the best hot sauc...|I don't know if i...|\n",
      "| 12|B0009XLVG0|A2725IB4YY9JEB|a poeng \"sparkygo...|                   4|                     4|    5|1282867200|\"my cats love thi...|One of my boys ne...|\n",
      "| 13|B0009XLVG0| A327PCT23YH90|                  lt|                   1|                     1|    1|1339545600|my cats are not f...|My cats have been...|\n",
      "| 14|B001GVISJM|A18ECVX2RJ7HUE|     willie \"roadie\"|                   2|                     2|    4|1288915200|   fresh and greasy!|good flavor! thes...|\n",
      "| 15|B001GVISJM|A2MUGFV2TDQ47K| lynrie \"oh hell no\"|                   4|                     5|    5|1268352000|strawberry twizzl...|The Strawberry Tw...|\n",
      "| 16|B001GVISJM|A1CZX3CP8IKQIJ|        brian a. lee|                   4|                     5|    5|1262044800|lots of twizzlers...|My daughter loves...|\n",
      "| 17|B001GVISJM|A3KLWF6WQ5BNYO|      erica neathery|                   0|                     0|    2|1348099200|          poor taste|I love eating the...|\n",
      "| 18|B001GVISJM| AFKW14U97Z6QO|               becca|                   0|                     0|    5|1345075200|            love it!|I am very satisfi...|\n",
      "| 19|B001GVISJM|A2A9X58G2GTBLP|             wolfee1|                   0|                     0|    5|1324598400|  great sweet candy!|Twizzlers, Strawb...|\n",
      "| 20|B001GVISJM|A3IV7CL2C13K2U|                greg|                   0|                     0|    5|1318032000|home delivered tw...|Candy was deliver...|\n",
      "+---+----------+--------------+--------------------+--------------------+----------------------+-----+----------+--------------------+--------------------+\n",
      "only showing top 20 rows\n",
      "\n",
      "root\n",
      " |-- Id: integer (nullable = true)\n",
      " |-- ProductId: string (nullable = true)\n",
      " |-- userId: string (nullable = true)\n",
      " |-- ProfileName: string (nullable = true)\n",
      " |-- HelpfulnessNumerator: integer (nullable = true)\n",
      " |-- HelpfulnessDenominator: integer (nullable = true)\n",
      " |-- Score: integer (nullable = true)\n",
      " |-- Time: string (nullable = true)\n",
      " |-- Summary: string (nullable = true)\n",
      " |-- Text: string (nullable = true)\n",
      "\n"
     ]
    }
   ],
   "source": [
    "df_recommendation_cleaned.show()\n",
    "df_recommendation_cleaned.printSchema()"
   ]
  },
  {
   "cell_type": "code",
   "execution_count": 10,
   "id": "92a094d6-310e-41e8-951b-cb3b37dc4c97",
   "metadata": {},
   "outputs": [
    {
     "name": "stdout",
     "output_type": "stream",
     "text": [
      "+-----+------+\n",
      "|Score| count|\n",
      "+-----+------+\n",
      "|    1| 52125|\n",
      "|    3| 42360|\n",
      "|    5|361565|\n",
      "|    4| 80055|\n",
      "|    2| 29598|\n",
      "+-----+------+\n",
      "\n"
     ]
    }
   ],
   "source": [
    "df_recommendation_cleaned.select('Score').groupby('Score').count().show()"
   ]
  },
  {
   "cell_type": "code",
   "execution_count": 11,
   "id": "4ad7a227-ea0d-4b38-8d30-02a0891ee0c3",
   "metadata": {},
   "outputs": [
    {
     "data": {
      "image/png": "[encoded data removed]",
      "text/plain": [
       "<Figure size 800x600 with 1 Axes>"
      ]
     },
     "metadata": {},
     "output_type": "display_data"
    }
   ],
   "source": [
    "# Jumlah product berdasarkan score\n",
    "# Convert the PySpark DataFrame to a Pandas DataFrame\n",
    "pandas_df = df_recommendation_cleaned.select('Score').toPandas()\n",
    "\n",
    "# Plotting the data\n",
    "plt.figure(figsize=(8, 6))\n",
    "sns.countplot(x='Score', data=pandas_df, order=pandas_df['Score'].value_counts().index)\n",
    "\n",
    "# Add labels and title\n",
    "plt.xlabel('Score')\n",
    "plt.ylabel('Count')\n",
    "plt.title('Count of Products by Score')\n",
    "plt.show()\n"
   ]
  },
  {
   "cell_type": "code",
   "execution_count": 12,
   "id": "4f19c5c4-cca6-418c-9749-bd4336b58a30",
   "metadata": {},
   "outputs": [
    {
     "name": "stdout",
     "output_type": "stream",
     "text": [
      "+----------+-----+\n",
      "| ProductId|count|\n",
      "+----------+-----+\n",
      "|B007JFMH8M|  911|\n",
      "|B002QWHJOU|  630|\n",
      "|B0026RQTGE|  630|\n",
      "|B002QWP89S|  630|\n",
      "|B002QWP8H0|  630|\n",
      "|B003B3OOPA|  622|\n",
      "|B001EO5Q64|  567|\n",
      "|B0013NUGDE|  563|\n",
      "|B0026KNQSA|  563|\n",
      "|B0026KPDG8|  563|\n",
      "|B007M832YY|  563|\n",
      "|B007M83302|  563|\n",
      "|B001RVFERK|  563|\n",
      "|B001RVFEP2|  563|\n",
      "|B000VK8AVK|  563|\n",
      "|B006HYLW32|  563|\n",
      "|B000KV7ZGQ|  556|\n",
      "|B000KV61FC|  556|\n",
      "|B005K4Q1YA|  542|\n",
      "|B005K4Q37A|  542|\n",
      "+----------+-----+\n",
      "only showing top 20 rows\n",
      "\n"
     ]
    }
   ],
   "source": [
    "product_id_score =  df_recommendation_cleaned.groupBy(\"ProductId\").count().orderBy('count', ascending=False)\n",
    "product_id_score.show()"
   ]
  },
  {
   "cell_type": "markdown",
   "id": "9e9344ec-7d33-4024-8310-8c7713fab29d",
   "metadata": {},
   "source": [
    "# Training Data"
   ]
  },
  {
   "cell_type": "code",
   "execution_count": 13,
   "id": "2bd6d6c1-b5a7-4577-a0ef-ea20e572a41b",
   "metadata": {},
   "outputs": [
    {
     "name": "stdout",
     "output_type": "stream",
     "text": [
      "+--------------+----------+-----+----------+-------------+\n",
      "|        UserId| ProductId|Score|UserId_idx|ProductId_idx|\n",
      "+--------------+----------+-----+----------+-------------+\n",
      "|A3SGXH7AUHU8GW|B001E4KFG0|    5|  209215.0|      52892.0|\n",
      "|A1D87F6ZCVE5NK|B00813GRG4|    1|   97503.0|      72999.0|\n",
      "| ABXLMWJIXXAIN|B000LQOCH0|    4|   45417.0|      48455.0|\n",
      "|A395BORC6FGVXV|B000UA0QIQ|    2|   42292.0|      50220.0|\n",
      "|A1UQRSCLF8GW1T|B006K2ZZ7K|    5|   55215.0|      24501.0|\n",
      "| ADT0SRK1MGOEU|B006K2ZZ7K|    4|  226488.0|      24501.0|\n",
      "|A1SP2KVKFXXRU1|B006K2ZZ7K|    5|   54745.0|      24501.0|\n",
      "|A3JRGQVEQN31IQ|B006K2ZZ7K|    5|  198149.0|      24501.0|\n",
      "|A1MZYO9TZK0BBI|B000E7L2R4|    5|   53398.0|      46719.0|\n",
      "|A21BT40VZCCYT4|B00171APVA|    5|   26360.0|      51932.0|\n",
      "|A3HDKO7OW0QNK4|B0001PB9FE|    5|   30412.0|      44859.0|\n",
      "|A2725IB4YY9JEB|B0009XLVG0|    5|    4715.0|      32629.0|\n",
      "| A327PCT23YH90|B0009XLVG0|    1|   65693.0|      32629.0|\n",
      "|A18ECVX2RJ7HUE|B001GVISJM|    4|    1694.0|       6673.0|\n",
      "|A2MUGFV2TDQ47K|B001GVISJM|    5|       6.0|       6673.0|\n",
      "|A1CZX3CP8IKQIJ|B001GVISJM|    5|   97186.0|       6673.0|\n",
      "|A3KLWF6WQ5BNYO|B001GVISJM|    2|   70030.0|       6673.0|\n",
      "| AFKW14U97Z6QO|B001GVISJM|    5|  228813.0|       6673.0|\n",
      "|A2A9X58G2GTBLP|B001GVISJM|    5|     263.0|       6673.0|\n",
      "|A3IV7CL2C13K2U|B001GVISJM|    5|   69638.0|       6673.0|\n",
      "+--------------+----------+-----+----------+-------------+\n",
      "only showing top 20 rows\n",
      "\n"
     ]
    }
   ],
   "source": [
    "final_df = df_recommendation_cleaned.select(['UserId','ProductId','Score'])\n",
    "indexers = [StringIndexer(inputCol=col, outputCol=col+'_idx').fit(final_df) for col in ['UserId', 'ProductId']]\n",
    "pipeline = Pipeline(stages=indexers)\n",
    "final_df = pipeline.fit(final_df).transform(final_df)\n",
    "final_df.show()"
   ]
  },
  {
   "cell_type": "code",
   "execution_count": 14,
   "id": "971c606b-210d-4a2c-ba0b-ee46c1882f20",
   "metadata": {},
   "outputs": [
    {
     "name": "stdout",
     "output_type": "stream",
     "text": [
      "+------+---------+-----+----------+-------------+\n",
      "|UserId|ProductId|Score|UserId_idx|ProductId_idx|\n",
      "+------+---------+-----+----------+-------------+\n",
      "+------+---------+-----+----------+-------------+\n",
      "\n"
     ]
    }
   ],
   "source": [
    "df_positive_values = final_df.filter(col('Score') <= 0)\n",
    "\n",
    "# Show the filtered DataFrame\n",
    "df_positive_values.show()"
   ]
  },
  {
   "cell_type": "code",
   "execution_count": 15,
   "id": "d7e0ef81-8e7d-4506-a2cf-437f9ffefcd4",
   "metadata": {},
   "outputs": [],
   "source": [
    "#Train Data\n",
    "(trainData, testData) = final_df.randomSplit([0.8, 0.2], seed=42)"
   ]
  },
  {
   "cell_type": "code",
   "execution_count": 16,
   "id": "5a63162e-382c-47b6-9b1b-a13ea06bbe68",
   "metadata": {},
   "outputs": [
    {
     "name": "stdout",
     "output_type": "stream",
     "text": [
      "root\n",
      " |-- UserId: string (nullable = true)\n",
      " |-- ProductId: string (nullable = true)\n",
      " |-- Score: integer (nullable = true)\n",
      " |-- UserId_idx: double (nullable = false)\n",
      " |-- ProductId_idx: double (nullable = false)\n",
      "\n"
     ]
    },
    {
     "data": {
      "text/plain": [
       "pyspark.sql.dataframe.DataFrame"
      ]
     },
     "execution_count": 16,
     "metadata": {},
     "output_type": "execute_result"
    }
   ],
   "source": [
    "testData.printSchema()\n",
    "type(testData)"
   ]
  },
  {
   "cell_type": "code",
   "execution_count": 17,
   "id": "16f85224-b581-4da5-8bf1-ebe9cec585a9",
   "metadata": {},
   "outputs": [
    {
     "data": {
      "text/plain": [
       "pyspark.ml.recommendation.ALS"
      ]
     },
     "execution_count": 17,
     "metadata": {},
     "output_type": "execute_result"
    }
   ],
   "source": [
    "#Building the model\n",
    "\n",
    "als = ALS(userCol=\"UserId_idx\", itemCol=\"ProductId_idx\", ratingCol=\"Score\",\n",
    "          coldStartStrategy=\"drop\", nonnegative=True)\n",
    "model = als.fit(trainData)\n",
    "type(als)"
   ]
  },
  {
   "cell_type": "code",
   "execution_count": 18,
   "id": "2c8a2330-b340-44b7-bc96-7ba3b2c4112c",
   "metadata": {},
   "outputs": [
    {
     "name": "stdout",
     "output_type": "stream",
     "text": [
      "+--------------+----------+-----+----------+-------------+----------+\n",
      "|        UserId| ProductId|Score|UserId_idx|ProductId_idx|prediction|\n",
      "+--------------+----------+-----+----------+-------------+----------+\n",
      "|A2SZLNSI5KOQJT|B006N3HWGS|    5|      10.0|       5300.0|  3.990918|\n",
      "|A2FRFAQCWZJT3Q|B005VOOM4A|    5|      15.0|        148.0| 4.3066897|\n",
      "|A1LZJZIHUPLDV4|B000LL0RC4|    5|      18.0|       9852.0|  5.223937|\n",
      "|A2Y8IDC1FKGNJC|B005VOOM4A|    5|      20.0|        148.0| 4.1917977|\n",
      "| ADS5APY1NKTL4|B005VOOM4A|    5|      35.0|        148.0| 4.5305915|\n",
      "|A3FKGKUCI3DG9U|B006Q7YG56|    3|      36.0|        833.0| 3.2157345|\n",
      "|A1P2XYD265YE21|B000JZYM8C|    5|      39.0|       1342.0|  4.347884|\n",
      "|A36MP37DITBU6F|B001BLXSVK|    5|      40.0|       5803.0| 3.9936247|\n",
      "|A2R6RA8FRBS608|B0048D4KPG|    5|      41.0|      29993.0| 4.5299616|\n",
      "|A17HMM1M7T9PJ1|B0030GT28C|    4|      46.0|       1829.0| 2.4970803|\n",
      "|A250AXLRBVYKB4|B001CC734G|    5|      47.0|      22097.0|  6.459416|\n",
      "|A24ZV048V7J0MT|B003PPDFC2|    5|      62.0|       8638.0|  5.041847|\n",
      "|A29313797NGT9L|B000YVBP36|    3|      63.0|      11033.0| 2.9752598|\n",
      "|A2G7B7FKP2O2PU|B001J8H1E0|    5|      77.0|       1645.0|  4.529622|\n",
      "|A35JP8KSV9281K|B005VOOM4A|    5|      98.0|        148.0| 4.5912843|\n",
      "|A35JP8KSV9281K|B002TSA91Q|    5|      98.0|        471.0| 4.0805407|\n",
      "|A2YIO225BTKVPU|B000MDCDM8|    4|     106.0|      18024.0| 2.4569695|\n",
      "| ANCOMAI0I7LVG|B005VOOM4A|    3|     157.0|        148.0|  3.097809|\n",
      "| A9NXTC0HTPSDO|B006Q7YG56|    3|     180.0|        833.0|  3.228838|\n",
      "| ALL9XFM0Q1N4E|B002DLXXHG|    2|     207.0|        463.0|  3.202419|\n",
      "|A1B6O7SAIYG2N0|B005VOOM4A|    4|     210.0|        148.0|  3.673342|\n",
      "|A1TJT6GXDGNN8Q|B000EXKS1Y|    2|     221.0|      17679.0| 3.1978388|\n",
      "|A1IH42TUIZ2XJL|B006Q7YG56|    1|     231.0|        833.0| 2.6625872|\n",
      "|A1ZSF5CJ0A4CIO|B000FGHEGW|    5|     234.0|      12027.0| 1.1447108|\n",
      "| ACAXV4V8PBCE3|B005VOOM4A|    4|     240.0|        148.0| 3.6538653|\n",
      "|A1A1BM6N28X9J0|B005VOOM4A|    4|     243.0|        148.0| 3.5492187|\n",
      "|A39SCU7KSK7330|B001FA1L3E|    5|     279.0|      22373.0|  1.755476|\n",
      "|A11I1I9QLMAM1A|B0047290I0|    5|     286.0|      40383.0| 3.8647857|\n",
      "|A3IR834T7AROBT|B005VOOM4A|    4|     293.0|        148.0|  3.887161|\n",
      "|A3NID9D9WMIV01|B000EVT06K|    5|     294.0|       2366.0|  4.991588|\n",
      "|A3T1LD0C65QCWK|B000V1PBNE|    5|     307.0|      26583.0| 4.1332674|\n",
      "|A28WXDXJA1P0MC|B006Q7YG56|    5|     316.0|        833.0|  4.513264|\n",
      "| A4VMQ6ZTSXSSL|B002TSA91Q|    1|     323.0|        471.0|  2.377618|\n",
      "| APP35M28G2U51|B005VOOM4A|    3|     369.0|        148.0| 2.9501164|\n",
      "| AQ8DU6XVA3USJ|B005VOOM4A|    5|     370.0|        148.0|  4.634264|\n",
      "| ASFW4ZMNZJKDA|B000JZYM8C|    5|     401.0|       1342.0| 3.9651086|\n",
      "| AGEKVD8JPZQMT|B002TSA91Q|    4|     417.0|        471.0| 3.6104336|\n",
      "|A2E2PA6UNK1E05|B005VOOM4A|    4|     425.0|        148.0| 3.8946977|\n",
      "|A2RKI7RPP5CJMG|B005VOOM4A|    4|     428.0|        148.0| 3.7407317|\n",
      "|A3FKPBNI7UWQFW|B005VOOM4A|    5|     430.0|        148.0| 4.6503234|\n",
      "|A26X7W5UM5QFT4|B000JZYM8C|    5|     442.0|       1342.0| 3.8302617|\n",
      "|A2OH0YZ2XEQA63|B0009F3PM6|    5|     465.0|       8086.0|  6.099407|\n",
      "|A3N4CUW4UYC9I3|B006Q7YG56|    4|     472.0|        833.0| 3.6280348|\n",
      "|A19XMHRB3G4DIR|B001VNP1T0|    5|     489.0|       2866.0| 5.4448338|\n",
      "| ACR4HKUT808U1|B002TSA91Q|    4|     513.0|        471.0| 3.0638444|\n",
      "|A28CCN6VYHRUKS|B006Q7YG56|    3|     524.0|        833.0| 2.8937788|\n",
      "|A1IQV6AI7L9NOK|B005VOOM4A|    5|     544.0|        148.0|   4.51651|\n",
      "|A1Y39T2CT36YL0|B0047OS2V4|    1|     547.0|       6336.0| 5.0158215|\n",
      "| A3SMV35531YME|B005VOOM4A|    3|     566.0|        148.0| 3.1055536|\n",
      "| ABNMD6670TV53|B005VOOM4A|    2|     572.0|        148.0| 2.3308406|\n",
      "| AG90OGHDGOOVH|B005VOOM4A|    3|     602.0|        148.0|  3.056996|\n",
      "|A1J2JXJLPXQOPS|B004EKHMXU|    5|     608.0|       7340.0| 4.8451424|\n",
      "|A2NML53YCHS80S|B005VOOM4A|    2|     620.0|        148.0| 2.1749387|\n",
      "|A3VLCQX7NG1N0E|B005VOOM4A|    3|     634.0|        148.0|  3.156375|\n",
      "|A3HED8SW5DDP9Q|B001BCVEBU|    5|     673.0|       5156.0| 3.5264368|\n",
      "|A2V9DTXTQ5YIMK|B001VNP1T0|    5|     755.0|       2866.0| 5.0980964|\n",
      "|A2TXMYYGSZCSZ1|B005VOOM4A|    2|     830.0|        148.0| 1.9961473|\n",
      "|A2XIOXRRYX0KZY|B006Q7YG56|    5|     833.0|        833.0|  4.168175|\n",
      "|A3PNBZ60XRKZFP|B005VOOM4A|    3|     845.0|        148.0|  2.843509|\n",
      "|A3T6HX48F66512|B005VOOM4A|    4|     931.0|        148.0|  3.799708|\n",
      "| AN81JUYW2SL24|B002TSA91Q|    5|     938.0|        471.0|  4.515869|\n",
      "|A2LXC5ZHHP0WXP|B005VOOM4A|    5|     988.0|        148.0|  4.814886|\n",
      "|A1ILMDO2212ZZ9|B0009L4QWI|    5|    1072.0|       2659.0| 5.0395865|\n",
      "|A2I05FGBTCRRB8|B005VOOM4A|    5|    1123.0|        148.0| 4.6921253|\n",
      "|A3436BWMMFP4VY|B005VOOM4A|    3|    1151.0|        148.0|  3.071361|\n",
      "|A3AJCNF56KL0B3|B005VOOM4A|    5|    1162.0|        148.0|   4.80584|\n",
      "|A199FRO0YFMGED|B005VOOM4A|    4|    1238.0|        148.0| 3.9692276|\n",
      "|A1LA4K5JF78BER|B005VOOM4A|    5|    1246.0|        148.0|  4.802664|\n",
      "|A234HXDATOAYEY|B002VZUW0A|    5|    1259.0|       2142.0|  4.415753|\n",
      "|A2I9IRYIQM8XJK|B000VRLS5I|    4|    1269.0|      13832.0| 1.3285592|\n",
      "|A16PUD6V3KAZ0Q|B002TSA91Q|    2|    1328.0|        471.0| 3.0144112|\n",
      "|A3TIL1PC2ZE97B|B005VOOM4A|    5|    1419.0|        148.0|   4.76409|\n",
      "| A3U7Q41SJ4PWI|B001NGAT2O|    2|    1420.0|      27974.0| 6.4514303|\n",
      "|A2HO898G5N5X05|B005VOOM4A|    5|    1487.0|        148.0| 4.7458205|\n",
      "|A2VAD79S4A06DD|B005VOOM4A|    3|    1495.0|        148.0| 3.0537348|\n",
      "|A3JL8RSRRJRK0I|B005VOOM4A|    3|    1517.0|        148.0| 2.9196975|\n",
      "|A3ULJE7UMUGSXR|B005VOOM4A|    4|    1527.0|        148.0|  3.820323|\n",
      "| A7XO1DM6W3DOS|B001CEX7DA|    4|    1532.0|       3794.0| 3.5788379|\n",
      "| ANTN61S4L7WG9|B005VOOM4A|    3|    1550.0|        148.0| 3.0565088|\n",
      "|A1OMHUU58XHQNG|B005VOOM4A|    5|    1579.0|        148.0| 4.8597007|\n",
      "|A2I3XS9TO93Q0F|B002TSA91Q|    5|    1605.0|        471.0|  3.625071|\n",
      "| AD34TCPEP7P84|B005VOOM4A|    4|    1661.0|        148.0| 3.8864725|\n",
      "|A110RS7QL8Q1UX|B005VOOM4A|    3|    1685.0|        148.0| 2.9771724|\n",
      "|A1BT6TL7UCIC5Y|B006Q7YG56|    5|    1699.0|        833.0|  4.309852|\n",
      "|A1ROUMJOGO4QMB|B001KWEZTO|    4|    1719.0|       1088.0| 3.5569415|\n",
      "| AYWHCM0TJ4737|B005VOOM4A|    5|    1870.0|        148.0|  4.851667|\n",
      "|A19FRW264WZTGP|B002TSA91Q|    5|    1882.0|        471.0| 3.9362392|\n",
      "| A7B48AJT6IC0A|B005VOOM4A|    5|    2016.0|        148.0| 4.8514547|\n",
      "| AQKK1FF4LFFBH|B005VOOM4A|    4|    2038.0|        148.0| 3.8563588|\n",
      "|A16ALXKQ02SKYG|B005VOOM4A|    3|    2055.0|        148.0| 3.0585744|\n",
      "|A1JISH2AQDW1YW|B005VOOM4A|    4|    2077.0|        148.0| 3.8507044|\n",
      "|A2E3NAL9ECE7VS|B005VOOM4A|    4|    2136.0|        148.0|  3.914625|\n",
      "|A2KMV056844YV2|B005VOOM4A|    4|    2150.0|        148.0| 3.9054244|\n",
      "| A57Q87B0TC9IJ|B002DLXXHG|    2|    2218.0|        463.0| 2.0502145|\n",
      "| AKT8TGIT6VVZ5|B005VOOM4A|    5|    2253.0|        148.0| 4.8437715|\n",
      "|A1KXJCXS6HFRQZ|B000H25Y0M|    5|    2315.0|      10817.0| 3.6492026|\n",
      "|A1LBGXE29GG1IR|B0019K980I|    5|    2317.0|      18498.0| 4.9440455|\n",
      "|A2K45OG1G1E48B|B0068ZW5B8|    5|    2382.0|      42834.0| 4.8069835|\n",
      "|A1HBVFI5G2X1G2|B005VOOM4A|    5|    2590.0|        148.0|  4.805895|\n",
      "|A1KXONFPU2XQ5K|B002TSA91Q|    5|    2601.0|        471.0|  4.611554|\n",
      "|A1TH5UXT33E7RC|B005VOOM4A|    4|    2619.0|        148.0| 3.8817692|\n",
      "|A1W2F15YRW36XF|B0021L8XR8|    5|    2623.0|       5518.0|  5.002972|\n",
      "|A2KS0FVY2CNJ8M|B005VOOM4A|    3|    2681.0|        148.0|  2.960506|\n",
      "|A2X2G8ME9TS9Y0|B001D0GVAO|    5|    2717.0|        496.0|  4.463287|\n",
      "|A3L1MEXXDI4Q77|B006Q7YG56|    5|    2775.0|        833.0|  4.662822|\n",
      "|A3TSJ9KDY18X1L|B006Q7YG56|    2|    2794.0|        833.0| 2.2066298|\n",
      "|A18ZP8SFD2VC3A|B0002UDY9W|    5|    2883.0|      13285.0| 3.0341218|\n",
      "|A1BVFLQ89LAI0K|B005VOOM4A|    3|    2890.0|        148.0| 2.9816046|\n",
      "|A2GJ8E2JIJW08E|B0021L8XR8|    5|    3012.0|       5518.0| 4.7666044|\n",
      "|A2HL2BY512HTVQ|B003THTKZC|    3|    3014.0|       1238.0| 2.8674064|\n",
      "|A30J8KM3H9TDBU|B005GYJUCO|    4|    3066.0|      20135.0| 3.3313107|\n",
      "|A3E7YWI8VV7VCV|B005VOOM4A|    5|    3111.0|        148.0| 4.8569174|\n",
      "|A3H9JSM1SUTE4O|B005VOOM4A|    4|    3120.0|        148.0| 3.7616656|\n",
      "| AA8F2HV4DPV2T|B006Q7YG56|    4|    3176.0|        833.0|  3.702231|\n",
      "| ADGS32I8FDAU0|B005HUW7FE|    5|    3195.0|      42373.0| 1.8497586|\n",
      "| A21EDMG94ID7D|B005VOOM4A|    4|    3432.0|        148.0| 3.8437786|\n",
      "|A22ML4R2ZHBN3F|B000FL521G|    5|    3441.0|       1580.0|  4.667019|\n",
      "| A357B3PUHSVQA|B002TSA91Q|    4|    3603.0|        471.0| 3.8468664|\n",
      "|A3JA8EXHWOUV6M|B002DLXXHG|    5|    3662.0|        463.0|  3.970989|\n",
      "|A3TZB9SXJCFMFJ|B001A02QJW|    5|    3712.0|       6620.0|  5.227722|\n",
      "|  A73CRXNIKDWF|B005VOOM4A|    1|    3738.0|        148.0| 1.0068607|\n",
      "|A1HOLE9R6WPT85|B002TSA91Q|    1|    3957.0|        471.0| 1.8547726|\n",
      "|A3BH3XJBBU7FF2|B002DLXXHG|    4|    4230.0|        463.0| 3.7517638|\n",
      "| AGGDI4VWPPZ6J|B0002UDY9W|    4|    4366.0|      13285.0|  4.129009|\n",
      "|  AQHX3MG6JY68|B0040PZ2R2|    5|    4418.0|      29719.0| 2.6489007|\n",
      "|A1XF1C7TEHCFTK|B001D0GVAO|    3|    4645.0|        496.0|  2.885059|\n",
      "|A1XR58IRKP3HEZ|B005VOOM4A|    4|    4648.0|        148.0| 3.8568683|\n",
      "|A24WNA54DAMGCC|B0046IAJFI|    5|    4698.0|       9465.0|  4.282492|\n",
      "|A2ESXEVEQB37I3|B005VOOM4A|    3|    4767.0|        148.0|  2.946888|\n",
      "| ABYVECXXSP6R5|B001D0GVAO|    5|    5172.0|        496.0| 4.2764025|\n",
      "| AMINDUR57XJX6|B005VOOM4A|    5|    5236.0|        148.0| 4.8437114|\n",
      "|A2LUM8T4MTYTYL|B005VOOM4A|    1|    5748.0|        148.0| 0.9713847|\n",
      "|A2SKZZZBV1XYWP|B001D0GVAO|    4|    5787.0|        496.0| 3.6696157|\n",
      "|A2TAAS82FNC0WQ|B001BLXSVK|    1|    5790.0|       5803.0| 4.0062876|\n",
      "|A2TAAS82FNC0WQ|B001BLXSVK|    1|    5790.0|       5803.0| 4.0062876|\n",
      "| AJP7B53DREX6D|B003THTKZC|    4|    6183.0|       1238.0| 3.8574185|\n",
      "| AWCJ12KBO5VII|B002TSA91Q|    2|    6284.0|        471.0| 3.4236546|\n",
      "|A102TGNH1D915Z|B000XJK7UG|    5|    6305.0|      15790.0| 1.4269705|\n",
      "|A16PDB0CIYNAMC|B001D0GVAO|    3|    6379.0|        496.0|  3.321961|\n",
      "|A1SVHXFN0WZYMK|B001D0GVAO|    5|    6579.0|        496.0|  4.379769|\n",
      "|A1WH5J3AP5JR7H|B006Q7YG56|    5|    6616.0|        833.0|  4.393753|\n",
      "|A304ILYRZ145SI|B000LL0RC4|    4|    6984.0|       9852.0| 3.8050756|\n",
      "|A38QXG26T3U31O|B002PO1VV6|    4|    7054.0|      38311.0| 2.8123896|\n",
      "|  A6VKWB820SFZ|B0009F3PM6|    5|    7272.0|       8086.0| 4.2841887|\n",
      "| AB0ZI13CLWPL6|B003THTKZC|    3|    7308.0|       1238.0| 2.9287066|\n",
      "|A1BSY6BNRLY3AH|B0021L8XR8|    2|    7678.0|       5518.0|  2.049022|\n",
      "|A1CC1IKCUIQMUV|B006Q7YG56|    4|    7684.0|        833.0| 3.8821461|\n",
      "|A1NIX2WA2ZKLV7|B003THTKZC|    5|    7830.0|       1238.0| 4.8326163|\n",
      "|A1P91BNTGGDSG8|B0021L8XR8|    5|    7856.0|       5518.0|  4.674255|\n",
      "|A235W6PBG18T81|B0002I0GVS|    3|    8050.0|       1959.0| 3.3466876|\n",
      "|A24ENO0BGZVL2Y|B003THTKZC|    4|    8068.0|       1238.0| 3.8862047|\n",
      "|A2D9N670IKJ2BP|B002TSA91Q|    5|    8195.0|        471.0| 4.3513775|\n",
      "|A2OT15OK68RXGC|B001D0GVAO|    1|    8349.0|        496.0|0.94273925|\n",
      "|A33R5P618X7MG7|B000W7V7BM|    5|    8538.0|      13840.0| 5.9302263|\n",
      "|A3CMCXOQMENRDX|B003THTKZC|    4|    8652.0|       1238.0| 3.8599415|\n",
      "|A3GQOY83MX72TQ|B002KDQXLK|    5|    8708.0|      38153.0|  2.136135|\n",
      "|A3KPJ1MOGTZVGC|B002TSA91Q|    4|    8752.0|        471.0| 3.7816246|\n",
      "|A3TUTIAVU7Q2E2|B001D0GVAO|    5|    8876.0|        496.0| 4.0921087|\n",
      "|A3VCC0LYLD7942|B002VC22Q0|    5|    8893.0|      12799.0| 2.3643882|\n",
      "| A74GU6D694C4Q|B002TSA91Q|    5|    8953.0|        471.0|  4.406055|\n",
      "| AJS8ZOI60113A|B0000CFSL8|    2|    9126.0|      20382.0|  1.990737|\n",
      "| AUC2B7PB2OGZ5|B003THTKZC|    5|    9241.0|       1238.0| 4.8332744|\n",
      "| AV6823XS14U41|B0007P0YT0|    5|    9252.0|      20735.0| 3.3517058|\n",
      "| AW05LFHK9F0SW|B002DLXXHG|    4|    9263.0|        463.0|  3.873032|\n",
      "|A13VY0ZQM7QBAJ|B000BXUVYG|    4|    9382.0|       3918.0| 2.9623694|\n",
      "|A1HZTAWGVYW0YU|B003THTKZC|    2|    9562.0|       1238.0| 1.9318391|\n",
      "|A1WH7NOR9K69YB|B001D0GVAO|    3|    9779.0|        496.0| 2.9600434|\n",
      "|A202Z4JLGUB3VS|B003THTKZC|    3|    9840.0|       1238.0| 2.8942797|\n",
      "|A25B2PE3R4W12A|B003THTKZC|    5|    9899.0|       1238.0|  4.827694|\n",
      "|A2B1RFP7BRMW2V|B001D0GVAO|    5|    9980.0|        496.0| 4.8083563|\n",
      "|A2G5NIH5BXFU7W|B004WZ4F3M|    4|   10053.0|      24171.0|  1.597755|\n",
      "|A2UTXCM0GFO2AN|B003THTKZC|    4|   10263.0|       1238.0| 3.8616502|\n",
      "|A2VMADW7G1INWV|B003THTKZC|    5|   10278.0|       1238.0| 4.8268094|\n",
      "|A2WJFNI3ONRY6A|B003THTKZC|    5|   10296.0|       1238.0| 4.8271494|\n",
      "|A300N4AS17NZFG|B004EKHMXU|    1|   10351.0|       7340.0| 3.3258805|\n",
      "|A3CE5TQNV19AFZ|B000JZYM8C|    5|   10536.0|       1342.0| 4.7453156|\n",
      "|A3DY462XT2G4N2|B003THTKZC|    4|   10558.0|       1238.0|  3.863254|\n",
      "|A3EM243NDJ4DF3|B002TSA91Q|    3|   10570.0|        471.0|  3.187009|\n",
      "|A3P9O7LQWVBWY7|B003THTKZC|    5|   10707.0|       1238.0| 4.8262153|\n",
      "|A3RQ50PV98SP99|B001D0GVAO|    4|   10743.0|        496.0|  3.760097|\n",
      "| A93QRTOBIRIYF|B000VK4E6A|    5|   10885.0|      34759.0| 1.5155237|\n",
      "| ADRQUBG5JSAQ3|B002GWH6NE|    2|   10969.0|       7240.0| 3.1932833|\n",
      "| AJD0X7ZQGXZ3Y|B003THTKZC|    5|   11040.0|       1238.0|  4.827454|\n",
      "|  ALJLFJL98JRC|B003THTKZC|    5|   11057.0|       1238.0| 4.8260617|\n",
      "| AM1CDKKWWEL26|B003THTKZC|    3|   11065.0|       1238.0| 2.8975453|\n",
      "| AN0KYCDJ88OKS|B000IXRF6Q|    5|   11083.0|      21220.0| 1.5562048|\n",
      "| AU6Z3CTNGMV57|B003THTKZC|    5|   11195.0|       1238.0|  4.827454|\n",
      "|A1ZRJ2GRRAIIA8|B001E5E2R2|    5|   11934.0|       3175.0| 2.8776555|\n",
      "|A21IAVTZO4PLA9|B002DLXXHG|    3|   11971.0|        463.0| 3.2087348|\n",
      "|A2AIQYXKN9V80L|B000F70TWW|    5|   12171.0|       4519.0| 3.6191185|\n",
      "|A2M7B4KBO5QCWO|B001D0GVAO|    5|   12385.0|        496.0| 4.1477957|\n",
      "|A36BE8S4Y32YGD|B000JJHSPW|    4|   12808.0|       7554.0| 3.1817396|\n",
      "|A3DZ14V8VR6XZD|B001D0GVAO|    5|   12937.0|        496.0| 4.7496686|\n",
      "|A3GWHQZRN9Q3AN|B001D0GVAO|    5|   13000.0|        496.0|  4.716434|\n",
      "|A3O1V4VUZDKTDS|B002DW4R9S|    5|   13148.0|       4935.0| 3.0200129|\n",
      "| A4T3LNLGC7E67|B001EO6064|    5|   13335.0|      22223.0| 0.4860013|\n",
      "| A78EAXBTHR2WR|B002DLXXHG|    2|   13393.0|        463.0| 2.2702956|\n",
      "| AKD1SD4I503SH|B0092X7B5S|    5|   13689.0|      43688.0| 4.9370027|\n",
      "| AY8GLFQP248YF|B002VZUW0A|    5|   13923.0|       2142.0| 4.7997684|\n",
      "|A1BPPZINVQ2CE6|B002TSA91Q|    5|   14297.0|        471.0| 4.5296936|\n",
      "+--------------+----------+-----+----------+-------------+----------+\n",
      "only showing top 200 rows\n",
      "\n",
      "root\n",
      " |-- UserId: string (nullable = true)\n",
      " |-- ProductId: string (nullable = true)\n",
      " |-- Score: integer (nullable = true)\n",
      " |-- UserId_idx: double (nullable = false)\n",
      " |-- ProductId_idx: double (nullable = false)\n",
      " |-- prediction: float (nullable = false)\n",
      "\n"
     ]
    }
   ],
   "source": [
    "prediction = model.transform(testData)\n",
    "prediction.show(200)\n",
    "prediction.printSchema()"
   ]
  },
  {
   "cell_type": "code",
   "execution_count": 19,
   "id": "c81cdbd9-5dbd-4c70-b239-15661f1fd003",
   "metadata": {},
   "outputs": [
    {
     "name": "stdout",
     "output_type": "stream",
     "text": [
      "Root Mean Squared Error: 1.194197627259156\n"
     ]
    }
   ],
   "source": [
    "evaluator = RegressionEvaluator(metricName = \"rmse\", labelCol=\"Score\", predictionCol=\"prediction\")\n",
    "RMSE = evaluator.evaluate(prediction)\n",
    "print(\"Root Mean Squared Error: \" + str(RMSE))"
   ]
  },
  {
   "cell_type": "markdown",
   "id": "184fd98b-517e-4233-9c10-6e4e7744fcec",
   "metadata": {},
   "source": [
    "## Making A Recommendation"
   ]
  },
  {
   "cell_type": "code",
   "execution_count": 20,
   "id": "3590c8e2-785f-4abe-be6e-57863d8a57f8",
   "metadata": {},
   "outputs": [],
   "source": [
    "user_recommends = model.recommendForAllUsers(5)\n"
   ]
  },
  {
   "cell_type": "code",
   "execution_count": 21,
   "id": "1b47afb9-8489-420c-a151-4eac428d215d",
   "metadata": {},
   "outputs": [
    {
     "name": "stdout",
     "output_type": "stream",
     "text": [
      "+----------+-----------------------------------+\n",
      "|UserId_idx|                      ProductId_idx|\n",
      "+----------+-----------------------------------+\n",
      "|         1|[27889, 14987, 14836, 14986, 14988]|\n",
      "|         3|[59262, 22768, 57764, 19441, 39149]|\n",
      "|         5|[39534, 64382, 30332, 14985, 14988]|\n",
      "|         6|[47496, 40979, 32535, 72185, 72184]|\n",
      "|         9|[24437, 19635, 30683, 18166, 25955]|\n",
      "|        12|[39534, 17306, 13717, 50348, 27979]|\n",
      "|        13|[39534, 68345, 19478, 30332, 23860]|\n",
      "|        15|[15201, 39376, 67643, 22659, 68798]|\n",
      "|        16|[39534, 57764, 50348, 15795, 39149]|\n",
      "|        17|[39534, 15795, 12066, 14985, 14988]|\n",
      "|        19|[39534, 68345, 22120, 61384, 18640]|\n",
      "|        20|[29388, 38468, 50348, 13424, 33744]|\n",
      "|        22|[39534, 27889, 29044, 36446, 15795]|\n",
      "|        26|[36715, 45643, 40132, 53988, 51983]|\n",
      "|        27| [39534, 23860, 9650, 31153, 28290]|\n",
      "|        28|[39534, 30332, 64382, 39828, 62167]|\n",
      "|        31|[39515, 32535, 32536, 27979, 27978]|\n",
      "|        34|[40856, 18166, 68793, 37489, 23582]|\n",
      "|        37|[15516, 71576, 16431, 17235, 17234]|\n",
      "|        40|[58494, 42604, 39534, 37305, 49371]|\n",
      "+----------+-----------------------------------+\n",
      "only showing top 20 rows\n",
      "\n"
     ]
    }
   ],
   "source": [
    "user_recommends.select(\"UserId_idx\", \"recommendations.ProductId_idx\").show(truncate=100)"
   ]
  },
  {
   "cell_type": "code",
   "execution_count": 22,
   "id": "28bf1b7d-faf5-4821-9a32-ca5c8ae6903c",
   "metadata": {},
   "outputs": [],
   "source": [
    "single_user_prediction = testData.filter(testData['UserId_idx'] == 1.0).select(['UserId_idx','UserId', 'ProductId_idx', 'ProductId'])"
   ]
  },
  {
   "cell_type": "code",
   "execution_count": 23,
   "id": "59d2ecd9-7412-4ec1-b954-9ff3e5522015",
   "metadata": {},
   "outputs": [
    {
     "name": "stdout",
     "output_type": "stream",
     "text": [
      "+----------+--------------+-------------+----------+\n",
      "|UserId_idx|        UserId|ProductId_idx| ProductId|\n",
      "+----------+--------------+-------------+----------+\n",
      "|       1.0|A1YUL9PCJR3JTY|      44823.0|B0001M0ZZC|\n",
      "|       1.0|A1YUL9PCJR3JTY|      24909.0|B0001M0ZZW|\n",
      "|       1.0|A1YUL9PCJR3JTY|      24909.0|B0001M0ZZW|\n",
      "|       1.0|A1YUL9PCJR3JTY|       1153.0|B0009F3SA0|\n",
      "|       1.0|A1YUL9PCJR3JTY|       1133.0|B0009F3SBY|\n",
      "|       1.0|A1YUL9PCJR3JTY|        416.0|B000CQC050|\n",
      "|       1.0|A1YUL9PCJR3JTY|        416.0|B000CQC050|\n",
      "|       1.0|A1YUL9PCJR3JTY|        852.0|B000CQC0BE|\n",
      "|       1.0|A1YUL9PCJR3JTY|        418.0|B000CQG87Q|\n",
      "|       1.0|A1YUL9PCJR3JTY|        420.0|B000CQID2Y|\n",
      "|       1.0|A1YUL9PCJR3JTY|       3744.0|B000EUIZ8K|\n",
      "|       1.0|A1YUL9PCJR3JTY|      47451.0|B000H1VBNC|\n",
      "|       1.0|A1YUL9PCJR3JTY|      21395.0|B000M7NH8I|\n",
      "|       1.0|A1YUL9PCJR3JTY|      21395.0|B000M7NH8I|\n",
      "|       1.0|A1YUL9PCJR3JTY|      13733.0|B000NU8H0C|\n",
      "|       1.0|A1YUL9PCJR3JTY|      21544.0|B000PSNJXC|\n",
      "|       1.0|A1YUL9PCJR3JTY|      49563.0|B000Q413BU|\n",
      "|       1.0|A1YUL9PCJR3JTY|       1729.0|B001ELL4X6|\n",
      "|       1.0|A1YUL9PCJR3JTY|        798.0|B001EO5QPA|\n",
      "|       1.0|A1YUL9PCJR3JTY|        799.0|B001EO5QZK|\n",
      "+----------+--------------+-------------+----------+\n",
      "only showing top 20 rows\n",
      "\n"
     ]
    }
   ],
   "source": [
    "single_user_prediction.show()"
   ]
  },
  {
   "cell_type": "code",
   "execution_count": 24,
   "id": "abda26b8-b997-4de1-977c-e990dcfd6ef1",
   "metadata": {},
   "outputs": [],
   "source": [
    "recommendation = model.transform(single_user_prediction)"
   ]
  },
  {
   "cell_type": "code",
   "execution_count": 25,
   "id": "191a96c5-248a-45d1-834c-3f75467a7912",
   "metadata": {},
   "outputs": [
    {
     "name": "stdout",
     "output_type": "stream",
     "text": [
      "+----------+--------------+-------------+----------+----------+\n",
      "|UserId_idx|        UserId|ProductId_idx| ProductId|prediction|\n",
      "+----------+--------------+-------------+----------+----------+\n",
      "|       1.0|A1YUL9PCJR3JTY|      36706.0|B001I7IN6W| 3.9269092|\n",
      "|       1.0|A1YUL9PCJR3JTY|      16224.0|B001I7PNKQ| 4.9989805|\n",
      "|       1.0|A1YUL9PCJR3JTY|       4078.0|B0000DBN2I| 3.4416072|\n",
      "|       1.0|A1YUL9PCJR3JTY|      21545.0|B000PSPREG| 5.3870125|\n",
      "|       1.0|A1YUL9PCJR3JTY|        799.0|B001EO5QZK| 3.7361693|\n",
      "|       1.0|A1YUL9PCJR3JTY|        804.0|B001EO5TJ8| 3.7307236|\n",
      "|       1.0|A1YUL9PCJR3JTY|       1133.0|B0009F3SBY| 3.9427962|\n",
      "|       1.0|A1YUL9PCJR3JTY|      36694.0|B001I4EDNW| 3.9269092|\n",
      "|       1.0|A1YUL9PCJR3JTY|       3744.0|B000EUIZ8K| 4.5391836|\n",
      "|       1.0|A1YUL9PCJR3JTY|      16370.0|B001W2H61G| 4.9953117|\n",
      "|       1.0|A1YUL9PCJR3JTY|      21570.0|B000QVDP6Y| 5.0161633|\n",
      "|       1.0|A1YUL9PCJR3JTY|       1729.0|B001ELL4X6| 3.0791578|\n",
      "|       1.0|A1YUL9PCJR3JTY|        416.0|B000CQC050| 3.9054325|\n",
      "|       1.0|A1YUL9PCJR3JTY|        416.0|B000CQC050| 3.9054325|\n",
      "|       1.0|A1YUL9PCJR3JTY|       2616.0|B001GQ3E2S|  4.476609|\n",
      "|       1.0|A1YUL9PCJR3JTY|      17276.0|B0000DBN2K| 3.6139827|\n",
      "|       1.0|A1YUL9PCJR3JTY|      20559.0|B00028MJ2M|  5.361866|\n",
      "|       1.0|A1YUL9PCJR3JTY|       5599.0|B003ULJJN0|  4.602453|\n",
      "|       1.0|A1YUL9PCJR3JTY|      21395.0|B000M7NH8I|  4.300752|\n",
      "|       1.0|A1YUL9PCJR3JTY|      21395.0|B000M7NH8I|  4.300752|\n",
      "+----------+--------------+-------------+----------+----------+\n",
      "only showing top 20 rows\n",
      "\n"
     ]
    }
   ],
   "source": [
    "recommendation.show()"
   ]
  },
  {
   "cell_type": "code",
   "execution_count": 26,
   "id": "79f7e56c-e572-4950-9afa-7f5cc5eaa3ae",
   "metadata": {},
   "outputs": [
    {
     "name": "stdout",
     "output_type": "stream",
     "text": [
      "+----------+--------------+-------------+----------+----------+\n",
      "|UserId_idx|        UserId|ProductId_idx| ProductId|prediction|\n",
      "+----------+--------------+-------------+----------+----------+\n",
      "|       1.0|A1YUL9PCJR3JTY|      21545.0|B000PSPREG| 5.3870125|\n",
      "|       1.0|A1YUL9PCJR3JTY|      20559.0|B00028MJ2M|  5.361866|\n",
      "|       1.0|A1YUL9PCJR3JTY|      21544.0|B000PSNJXC|  5.293704|\n",
      "|       1.0|A1YUL9PCJR3JTY|      14620.0|B003ULE1E2| 5.1947103|\n",
      "|       1.0|A1YUL9PCJR3JTY|      12911.0|B003ULL816|  5.146568|\n",
      "+----------+--------------+-------------+----------+----------+\n",
      "only showing top 5 rows\n",
      "\n"
     ]
    }
   ],
   "source": [
    "type(recommendation)\n",
    "recommendation_sorted = recommendation.orderBy(recommendation['prediction'].desc())\n",
    "recommendation_sorted.show(n=5)"
   ]
  },
  {
   "cell_type": "markdown",
   "id": "425f919b-0793-41e6-9a0d-38d7a79dcb53",
   "metadata": {},
   "source": [
    "### Use items which haven't been bought by user id 1.0 to recommend the best item for user id 1.0"
   ]
  },
  {
   "cell_type": "code",
   "execution_count": 30,
   "id": "f7f45dcc-9c45-4619-a197-1cafe519e6fe",
   "metadata": {},
   "outputs": [
    {
     "name": "stdout",
     "output_type": "stream",
     "text": [
      "+-------------+----------+\n",
      "|ProductId_idx|UserId_idx|\n",
      "+-------------+----------+\n",
      "|      63867.0|       1.0|\n",
      "|       6454.0|       1.0|\n",
      "|      55041.0|       1.0|\n",
      "|      43284.0|       1.0|\n",
      "|      52435.0|       1.0|\n",
      "|      12737.0|       1.0|\n",
      "|      21309.0|       1.0|\n",
      "|      20948.0|       1.0|\n",
      "|      29728.0|       1.0|\n",
      "|      56427.0|       1.0|\n",
      "|      17267.0|       1.0|\n",
      "|      41060.0|       1.0|\n",
      "|      54175.0|       1.0|\n",
      "|      54050.0|       1.0|\n",
      "|      13094.0|       1.0|\n",
      "|      45605.0|       1.0|\n",
      "|      12172.0|       1.0|\n",
      "|      18436.0|       1.0|\n",
      "|      22797.0|       1.0|\n",
      "|      58327.0|       1.0|\n",
      "+-------------+----------+\n",
      "only showing top 20 rows\n",
      "\n"
     ]
    }
   ],
   "source": [
    "all_items_df = final_df.select(\"ProductId_idx\").distinct()\n",
    "\n",
    "items_bought_by_user_1 = final_df.filter(col(\"UserId_idx\") == 1).select(\"ProductId_idx\")\n",
    "\n",
    "items_not_bought_by_user_1 = all_items_df.join(items_bought_by_user_1, on=\"ProductId_idx\", how=\"left_anti\")\n",
    "\n",
    "user_id = 1\n",
    "items_not_bought = items_not_bought_by_user_1.withColumn(\"UserId_idx\", col(\"ProductId_idx\") * 0 + user_id)\n",
    "items_not_bought.show()\n"
   ]
  },
  {
   "cell_type": "code",
   "execution_count": 31,
   "id": "5fcaa954-c338-4822-9cdc-4af67c42fcc4",
   "metadata": {},
   "outputs": [
    {
     "name": "stdout",
     "output_type": "stream",
     "text": [
      "+-------------+----------+----------+\n",
      "|ProductId_idx|UserId_idx|prediction|\n",
      "+-------------+----------+----------+\n",
      "|      63867.0|       1.0| 2.8506272|\n",
      "|       6454.0|       1.0| 3.3819628|\n",
      "|      43284.0|       1.0|  4.304305|\n",
      "|      12737.0|       1.0| 3.5351522|\n",
      "|      21309.0|       1.0| 3.2157352|\n",
      "|      20948.0|       1.0| 3.6952322|\n",
      "|      29728.0|       1.0| 2.6454108|\n",
      "|      17267.0|       1.0| 4.6338043|\n",
      "|      41060.0|       1.0| 1.4142597|\n",
      "|      54175.0|       1.0| 1.2183068|\n",
      "|      54050.0|       1.0| 3.3723752|\n",
      "|      13094.0|       1.0|  5.170857|\n",
      "|      45605.0|       1.0| 1.5579095|\n",
      "|      12172.0|       1.0| 4.7177615|\n",
      "|      18436.0|       1.0| 5.2810698|\n",
      "|      22797.0|       1.0|  5.553661|\n",
      "|      58327.0|       1.0| 5.1279874|\n",
      "|      42594.0|       1.0|  4.222077|\n",
      "|      71444.0|       1.0| 2.1319091|\n",
      "|      12493.0|       1.0| 4.7461905|\n",
      "+-------------+----------+----------+\n",
      "only showing top 20 rows\n",
      "\n"
     ]
    }
   ],
   "source": [
    "recommendation = model.transform(items_not_bought)\n",
    "recommendation.show()\n"
   ]
  },
  {
   "cell_type": "code",
   "execution_count": 32,
   "id": "a3f783d4-f733-4dc8-a9a6-4ed672c809cd",
   "metadata": {},
   "outputs": [
    {
     "name": "stdout",
     "output_type": "stream",
     "text": [
      "Top 5 Food Product Recommendation with Highest Score 6.9\n",
      "+-------------+----------+----------+\n",
      "|ProductId_idx|UserId_idx|prediction|\n",
      "+-------------+----------+----------+\n",
      "|      63867.0|       1.0| 2.8506272|\n",
      "|       6454.0|       1.0| 3.3819628|\n",
      "|      43284.0|       1.0|  4.304305|\n",
      "|      12737.0|       1.0| 3.5351522|\n",
      "|      21309.0|       1.0| 3.2157352|\n",
      "|      20948.0|       1.0| 3.6952322|\n",
      "|      29728.0|       1.0| 2.6454108|\n",
      "|      17267.0|       1.0| 4.6338043|\n",
      "|      41060.0|       1.0| 1.4142597|\n",
      "|      54175.0|       1.0| 1.2183068|\n",
      "|      54050.0|       1.0| 3.3723752|\n",
      "|      13094.0|       1.0|  5.170857|\n",
      "|      45605.0|       1.0| 1.5579095|\n",
      "|      12172.0|       1.0| 4.7177615|\n",
      "|      18436.0|       1.0| 5.2810698|\n",
      "|      22797.0|       1.0|  5.553661|\n",
      "|      58327.0|       1.0| 5.1279874|\n",
      "|      42594.0|       1.0|  4.222077|\n",
      "|      71444.0|       1.0| 2.1319091|\n",
      "|      12493.0|       1.0| 4.7461905|\n",
      "+-------------+----------+----------+\n",
      "only showing top 20 rows\n",
      "\n",
      "Top 5 Food Product Recommendation with Highest Score 5\n",
      "+-------------+----------+----------+\n",
      "|ProductId_idx|UserId_idx|prediction|\n",
      "+-------------+----------+----------+\n",
      "|      63867.0|       1.0| 2.8506272|\n",
      "|       6454.0|       1.0| 3.3819628|\n",
      "|      43284.0|       1.0|  4.304305|\n",
      "|      12737.0|       1.0| 3.5351522|\n",
      "|      21309.0|       1.0| 3.2157352|\n",
      "|      20948.0|       1.0| 3.6952322|\n",
      "|      29728.0|       1.0| 2.6454108|\n",
      "|      17267.0|       1.0| 4.6338043|\n",
      "|      41060.0|       1.0| 1.4142597|\n",
      "|      54175.0|       1.0| 1.2183068|\n",
      "|      54050.0|       1.0| 3.3723752|\n",
      "|      45605.0|       1.0| 1.5579095|\n",
      "|      12172.0|       1.0| 4.7177615|\n",
      "|      42594.0|       1.0|  4.222077|\n",
      "|      71444.0|       1.0| 2.1319091|\n",
      "|      12493.0|       1.0| 4.7461905|\n",
      "|      22331.0|       1.0| 2.0105417|\n",
      "|      66968.0|       1.0|  4.487811|\n",
      "|      30102.0|       1.0| 1.2800592|\n",
      "|      10930.0|       1.0| 4.1769485|\n",
      "+-------------+----------+----------+\n",
      "only showing top 20 rows\n",
      "\n"
     ]
    }
   ],
   "source": [
    "print(\"Top 5 Food Product Recommendation with Highest Score 6.9\")\n",
    "recommendation.show()\n",
    "\n",
    "print(\"Top 5 Food Product Recommendation with Highest Score 5\")\n",
    "filtered_recommendation = recommendation.filter(col(\"prediction\") <= 5 )\n",
    "filtered_recommendation.show()"
   ]
  },
  {
   "cell_type": "markdown",
   "id": "1ecf0341-291f-4781-a02d-ceaeeb540993",
   "metadata": {},
   "source": [
    "## Show top 5 Product with highest score for User Id 1"
   ]
  },
  {
   "cell_type": "code",
   "execution_count": 33,
   "id": "5774f787-11f5-4d07-b840-1d5add3e8636",
   "metadata": {},
   "outputs": [
    {
     "name": "stdout",
     "output_type": "stream",
     "text": [
      "Top 5 Food Product Recommendation with Highest Score 6.9\n",
      "+-------------+----------+----------+\n",
      "|ProductId_idx|UserId_idx|prediction|\n",
      "+-------------+----------+----------+\n",
      "|      27889.0|       1.0|  6.836885|\n",
      "|      14987.0|       1.0| 6.7330446|\n",
      "|      14836.0|       1.0|  6.702823|\n",
      "|      14986.0|       1.0|  6.697756|\n",
      "|      14988.0|       1.0| 6.6963167|\n",
      "+-------------+----------+----------+\n",
      "only showing top 5 rows\n",
      "\n",
      "Top 5 Food Product Recommendation with Highest Score 5\n",
      "+-------------+----------+----------+\n",
      "|ProductId_idx|UserId_idx|prediction|\n",
      "+-------------+----------+----------+\n",
      "|       7588.0|       1.0|  4.999893|\n",
      "|      10375.0|       1.0|  4.999887|\n",
      "|      10482.0|       1.0|  4.999723|\n",
      "|       9093.0|       1.0|  4.999678|\n",
      "|      20553.0|       1.0|  4.999637|\n",
      "+-------------+----------+----------+\n",
      "only showing top 5 rows\n",
      "\n"
     ]
    }
   ],
   "source": [
    "print(\"Top 5 Food Product Recommendation with Highest Score 6.9\")\n",
    "recommendation_sorted_wofilter = recommendation.orderBy(recommendation['prediction'].desc())\n",
    "recommendation_sorted_wofilter.show(n=5)\n",
    "\n",
    "print(\"Top 5 Food Product Recommendation with Highest Score 5\")\n",
    "recommendation_sorted = filtered_recommendation.orderBy(recommendation['prediction'].desc())\n",
    "recommendation_sorted.show(n=5)"
   ]
  },
  {
   "cell_type": "code",
   "execution_count": 39,
   "id": "14ca001e-c2d1-4dfb-a9dc-caba56978468",
   "metadata": {},
   "outputs": [],
   "source": [
    "#Product Names from another datasets"
   ]
  },
  {
   "cell_type": "code",
   "execution_count": 40,
   "id": "1ac7f406-323a-4adf-b60a-6adf3a1295d9",
   "metadata": {},
   "outputs": [
    {
     "name": "stdout",
     "output_type": "stream",
     "text": [
      "+----------+--------------+--------------------------------------------------+-----+--------------------------------------------------+--------------------------------------------------+\n",
      "| ProductId|      UserID_B|                                       productName|Score|                                           Summary|                                              Text|\n",
      "+----------+--------------+--------------------------------------------------+-----+--------------------------------------------------+--------------------------------------------------+\n",
      "|B001E4KFG0|A3SGXH7AUHU8GW|       Dogswell Vitality Canned Dog Food Case Duck|    5|                             Good Quality Dog Food|I have bought several of the Vitality canned do...|\n",
      "|B00813GRG4|A1D87F6ZCVE5NK|Southern Grove Premium Quality Roasted and Salt...|    1|                                 Not as Advertised|\"Product arrived labeled as Jumbo Salted Peanut...|\n",
      "|B000LQOCH0| ABXLMWJIXXAIN|Turkish Delight Filbert (Hazelnuts) (Sultan) 16...|    4|                         \"\"\"Delight\"\" says it all\"|\"This is a confection that has been around a fe...|\n",
      "|B000UA0QIQ|A395BORC6FGVXV| Faeries Finest Flavor Extract, Cherry, 2.04 Ounce|    2|                                    Cough Medicine|If you are looking for the secret ingredient in...|\n",
      "|B006K2ZZ7K|A1UQRSCLF8GW1T|                Salt Water Taffy - Assorted, 5 lbs|    5|                                       Great taffy|Great taffy at a great price.  There was a wide...|\n",
      "|B006K2ZZ7K| ADT0SRK1MGOEU|                Salt Water Taffy - Assorted, 5 lbs|    4|                                        Nice Taffy|I got a wild hair for taffy and ordered this fi...|\n",
      "|B006K2ZZ7K|A1SP2KVKFXXRU1|                Salt Water Taffy - Assorted, 5 lbs|    5|     Great!  Just as good as the expensive brands!|This saltwater taffy had great flavors and was ...|\n",
      "|B006K2ZZ7K|A3JRGQVEQN31IQ|                Salt Water Taffy - Assorted, 5 lbs|    5|                            Wonderful, tasty taffy|This taffy is so good.  It is very soft and che...|\n",
      "|B000E7L2R4|A1MZYO9TZK0BBI|Organic Barley Seeds - 9 Lbs in Pre-Measured Ba...|    5|                                        Yay Barley|Right now I'm mostly just sprouting this so my ...|\n",
      "|B00171APVA|A21BT40VZCCYT4|   Eukanuba Natural Lamb & Rice Puppy, 4-Pound Bag|    5|                                  Healthy Dog Food|This is a very healthy dog food. Good for their...|\n",
      "|B0001PB9FE|A3HDKO7OW0QNK4| Original Tequila Picante Gourmet de Inclan - 5 OZ|    5|                   The Best Hot Sauce in the World|I don't know if it's the cactus or the tequila ...|\n",
      "|B0009XLVG0|A2725IB4YY9JEB|Canidae All Life Stages Indoor Adult Cat Dry Fo...|    5|\"My cats LOVE this \"\"diet\"\" food better than th...|One of my boys needed to lose some weight and t...|\n",
      "|B0009XLVG0| A327PCT23YH90|Canidae All Life Stages Indoor Adult Cat Dry Fo...|    1|              My Cats Are Not Fans of the New Food|My cats have been happily eating Felidae Platin...|\n",
      "|B001GVISJM|A18ECVX2RJ7HUE|TWIZZLERS Twists, Strawberry Flavored Licorice ...|    4|                                 fresh and greasy!|good flavor! these came securely packed... they...|\n",
      "|B001GVISJM|A2MUGFV2TDQ47K|TWIZZLERS Twists, Strawberry Flavored Licorice ...|    5|                      Strawberry Twizzlers - Yummy|The Strawberry Twizzlers are my guilty pleasure...|\n",
      "|B001GVISJM|A1CZX3CP8IKQIJ|TWIZZLERS Twists, Strawberry Flavored Licorice ...|    5|          Lots of twizzlers, just what you expect.|My daughter loves twizzlers and this shipment o...|\n",
      "|B001GVISJM|A3KLWF6WQ5BNYO|TWIZZLERS Twists, Strawberry Flavored Licorice ...|    2|                                        poor taste|I love eating them and they are good for watchi...|\n",
      "|B001GVISJM| AFKW14U97Z6QO|TWIZZLERS Twists, Strawberry Flavored Licorice ...|    5|                                          Love it!|I am very satisfied with my Twizzler purchase. ...|\n",
      "|B001GVISJM|A2A9X58G2GTBLP|TWIZZLERS Twists, Strawberry Flavored Licorice ...|    5|                                GREAT SWEET CANDY!|Twizzlers, Strawberry my childhood favorite can...|\n",
      "|B001GVISJM|A3IV7CL2C13K2U|TWIZZLERS Twists, Strawberry Flavored Licorice ...|    5|                           Home delivered twizlers|Candy was delivered very fast and was purchased...|\n",
      "|B001GVISJM|A1WO0KGLPR5PV6|TWIZZLERS Twists, Strawberry Flavored Licorice ...|    5|                                      Always fresh|My husband is a Twizzlers addict.  We've bought...|\n",
      "|B001GVISJM| AZOF9E17RGZH8|TWIZZLERS Twists, Strawberry Flavored Licorice ...|    5|                                         TWIZZLERS|\"I bought these for my husband who is currently...|\n",
      "|B001GVISJM| ARYVQL4N737A1|TWIZZLERS Twists, Strawberry Flavored Licorice ...|    5|                                Delicious product!|I can remember buying this candy as a kid and t...|\n",
      "|B001GVISJM| AJ613OLZZUG7V|TWIZZLERS Twists, Strawberry Flavored Licorice ...|    5|                                         Twizzlers|I love this candy.  After weight watchers I had...|\n",
      "|B001GVISJM|A22P2J09NJ9HKE|TWIZZLERS Twists, Strawberry Flavored Licorice ...|    5|                     Please sell these in Mexico!!|I have lived out of the US for over 7 yrs now, ...|\n",
      "|B001GVISJM|A3FONPR03H3PJS|TWIZZLERS Twists, Strawberry Flavored Licorice ...|    5|                            Twizzlers - Strawberry|\"Product received is as advertised.<br /><br />...|\n",
      "|B001GVISJM|A3RXAU2N8KV45G|TWIZZLERS Twists, Strawberry Flavored Licorice ...|    1|                                   Nasty No flavor|The candy is just red , No flavor . Just  plan ...|\n",
      "|B001GVISJM| AAAS38B98HMIK|TWIZZLERS Twists, Strawberry Flavored Licorice ...|    4|                       Great Bargain for the Price|I was so glad Amazon carried these batteries.  ...|\n",
      "|B00144C10S|A2F4LZVGFLD1OB|DiabeticFriendly® Sugar Free Milk Chocolate Cov...|    5|                                            YUMMY!|I got this for my Mum who is not diabetic but n...|\n",
      "|B0001PB9FY|A3HDKO7OW0QNK4|Original Tequila Picante Gourmet de Inclan - Ca...|    5|                   The Best Hot Sauce in the World|I don't know if it's the cactus or the tequila ...|\n",
      "+----------+--------------+--------------------------------------------------+-----+--------------------------------------------------+--------------------------------------------------+\n",
      "only showing top 30 rows\n",
      "\n",
      "root\n",
      " |-- ProductId: string (nullable = true)\n",
      " |-- UserID_B: string (nullable = true)\n",
      " |-- productName: string (nullable = true)\n",
      " |-- Score: string (nullable = true)\n",
      " |-- Summary: string (nullable = true)\n",
      " |-- Text: string (nullable = true)\n",
      "\n"
     ]
    }
   ],
   "source": [
    "df_name = spark.read.format('csv').options(header=True).load('amazonFood.csv')\n",
    "df_name = df_name.withColumnRenamed(\"UserID\", \"UserID_B\")\n",
    "df_name.show(30, truncate=50)\n",
    "df_name.printSchema()"
   ]
  },
  {
   "cell_type": "code",
   "execution_count": 44,
   "id": "ac2bb3d5-6a28-4ea1-b624-f82e1314bd0e",
   "metadata": {},
   "outputs": [
    {
     "name": "stdout",
     "output_type": "stream",
     "text": [
      "+----------+--------------------+-------------+\n",
      "| ProductId|         productName|ProductId_idx|\n",
      "+----------+--------------------+-------------+\n",
      "|B001E4KFG0|Dogswell Vitality...|       3654.0|\n",
      "|B00813GRG4|Southern Grove Pr...|       5018.0|\n",
      "|B000LQOCH0|Turkish Delight F...|       3340.0|\n",
      "|B000UA0QIQ|Faeries Finest Fl...|       3461.0|\n",
      "|B006K2ZZ7K|Salt Water Taffy ...|       1778.0|\n",
      "|B006K2ZZ7K|Salt Water Taffy ...|       1778.0|\n",
      "|B006K2ZZ7K|Salt Water Taffy ...|       1778.0|\n",
      "|B006K2ZZ7K|Salt Water Taffy ...|       1778.0|\n",
      "|B000E7L2R4|Organic Barley Se...|       3194.0|\n",
      "|B00171APVA|Eukanuba Natural ...|       3587.0|\n",
      "|B0001PB9FE|Original Tequila ...|       3050.0|\n",
      "|B0009XLVG0|Canidae All Life ...|       2279.0|\n",
      "|B0009XLVG0|Canidae All Life ...|       2279.0|\n",
      "|B001GVISJM|TWIZZLERS Twists,...|        510.0|\n",
      "|B001GVISJM|TWIZZLERS Twists,...|        510.0|\n",
      "|B001GVISJM|TWIZZLERS Twists,...|        510.0|\n",
      "|B001GVISJM|TWIZZLERS Twists,...|        510.0|\n",
      "|B001GVISJM|TWIZZLERS Twists,...|        510.0|\n",
      "|B001GVISJM|TWIZZLERS Twists,...|        510.0|\n",
      "|B001GVISJM|TWIZZLERS Twists,...|        510.0|\n",
      "+----------+--------------------+-------------+\n",
      "only showing top 20 rows\n",
      "\n"
     ]
    }
   ],
   "source": [
    "df_products = df_name.select(['ProductId','productName'])\n",
    "indexers = [StringIndexer(inputCol=col, outputCol=col+'_idx').fit(df_products) for col in [ 'ProductId']]\n",
    "pipeline = Pipeline(stages=indexers)\n",
    "df_products = pipeline.fit(df_products).transform(df_products)\n",
    "df_products.show()"
   ]
  },
  {
   "cell_type": "code",
   "execution_count": 46,
   "id": "a6cc6198-dfd1-4308-844d-ef946be9d83b",
   "metadata": {},
   "outputs": [],
   "source": [
    "joined_df1 = df_products.join(recommendation_sorted_wofilter, on=\"ProductId_idx\", how=\"inner\")\n",
    "joined_df2 = df_products.join(recommendation_sorted, on=\"ProductId_idx\", how=\"inner\")"
   ]
  },
  {
   "cell_type": "code",
   "execution_count": 48,
   "id": "9dbdc868-de32-4dd4-ba61-a898f6717871",
   "metadata": {},
   "outputs": [
    {
     "name": "stdout",
     "output_type": "stream",
     "text": [
      "Joined DataFrame All:\n",
      "+-------------+----------+--------------------+----------+----------+\n",
      "|ProductId_idx| ProductId|         productName|UserId_idx|prediction|\n",
      "+-------------+----------+--------------------+----------+----------+\n",
      "|       2734.0|B003ZDWMGO|Lucini Italia Tra...|       1.0|  4.865537|\n",
      "|       2734.0|B003ZDWMGO|Polish Dill Pickl...|       1.0|  4.865537|\n",
      "|       2815.0|B004MTMYNQ|Cheetos Crunchy F...|       1.0|  4.346771|\n",
      "|       2815.0|B004MTMYNQ|Cheetos Crunchy F...|       1.0|  4.346771|\n",
      "|       2862.0|B0056CSBO4|Faeries Finest Fl...|       1.0|  3.275492|\n",
      "|       2862.0|B0056CSBO4|Napoleon Perla Pa...|       1.0|  3.275492|\n",
      "|        769.0|B0000CDBRP|Chef Paul Prudhom...|       1.0| 2.8767471|\n",
      "|        769.0|B0000CDBRP|Chef Paul Prudhom...|       1.0| 2.8767471|\n",
      "|        769.0|B0000CDBRP|Chef Paul Prudhom...|       1.0| 2.8767471|\n",
      "|        769.0|B0000CDBRP|Chef Paul Prudhom...|       1.0| 2.8767471|\n",
      "|        769.0|B0000CDBRP|Chef Paul Prudhom...|       1.0| 2.8767471|\n",
      "|        769.0|B0000CDBRP|Chef Paul Prudhom...|       1.0| 2.8767471|\n",
      "|        769.0|B0000CDBRP|Chef Paul Prudhom...|       1.0| 2.8767471|\n",
      "|        769.0|B0000CDBRP|Chef Paul Prudhom...|       1.0| 2.8767471|\n",
      "|        769.0|B0000CDBRP|Monin Key Lime Pi...|       1.0| 2.8767471|\n",
      "|       1051.0|B001THVDWM|Caribou Coffee K ...|       1.0| 3.1957977|\n",
      "|       1051.0|B001THVDWM|Caribou Coffee K ...|       1.0| 3.1957977|\n",
      "|       1051.0|B001THVDWM|Caribou Coffee K ...|       1.0| 3.1957977|\n",
      "|       1051.0|B001THVDWM|Caribou Coffee K ...|       1.0| 3.1957977|\n",
      "|       1051.0|B001THVDWM|Caribou Coffee K ...|       1.0| 3.1957977|\n",
      "+-------------+----------+--------------------+----------+----------+\n",
      "only showing top 20 rows\n",
      "\n",
      "Joined DataFrame Under 5:\n",
      "+-------------+----------+--------------------+----------+----------+\n",
      "|ProductId_idx| ProductId|         productName|UserId_idx|prediction|\n",
      "+-------------+----------+--------------------+----------+----------+\n",
      "|       2734.0|B003ZDWMGO|Lucini Italia Tra...|       1.0|  4.865537|\n",
      "|       2734.0|B003ZDWMGO|Polish Dill Pickl...|       1.0|  4.865537|\n",
      "|       2815.0|B004MTMYNQ|Cheetos Crunchy F...|       1.0|  4.346771|\n",
      "|       2815.0|B004MTMYNQ|Cheetos Crunchy F...|       1.0|  4.346771|\n",
      "|       2862.0|B0056CSBO4|Faeries Finest Fl...|       1.0|  3.275492|\n",
      "|       2862.0|B0056CSBO4|Napoleon Perla Pa...|       1.0|  3.275492|\n",
      "|        769.0|B0000CDBRP|Chef Paul Prudhom...|       1.0| 2.8767471|\n",
      "|        769.0|B0000CDBRP|Chef Paul Prudhom...|       1.0| 2.8767471|\n",
      "|        769.0|B0000CDBRP|Chef Paul Prudhom...|       1.0| 2.8767471|\n",
      "|        769.0|B0000CDBRP|Chef Paul Prudhom...|       1.0| 2.8767471|\n",
      "|        769.0|B0000CDBRP|Chef Paul Prudhom...|       1.0| 2.8767471|\n",
      "|        769.0|B0000CDBRP|Chef Paul Prudhom...|       1.0| 2.8767471|\n",
      "|        769.0|B0000CDBRP|Chef Paul Prudhom...|       1.0| 2.8767471|\n",
      "|        769.0|B0000CDBRP|Chef Paul Prudhom...|       1.0| 2.8767471|\n",
      "|        769.0|B0000CDBRP|Monin Key Lime Pi...|       1.0| 2.8767471|\n",
      "|       1051.0|B001THVDWM|Caribou Coffee K ...|       1.0| 3.1957977|\n",
      "|       1051.0|B001THVDWM|Caribou Coffee K ...|       1.0| 3.1957977|\n",
      "|       1051.0|B001THVDWM|Caribou Coffee K ...|       1.0| 3.1957977|\n",
      "|       1051.0|B001THVDWM|Caribou Coffee K ...|       1.0| 3.1957977|\n",
      "|       1051.0|B001THVDWM|Caribou Coffee K ...|       1.0| 3.1957977|\n",
      "+-------------+----------+--------------------+----------+----------+\n",
      "only showing top 20 rows\n",
      "\n"
     ]
    }
   ],
   "source": [
    "print(\"Joined DataFrame All:\")\n",
    "joined_df1.show()\n",
    "\n",
    "print(\"Joined DataFrame Under 5:\")\n",
    "joined_df1.show()"
   ]
  },
  {
   "cell_type": "code",
   "execution_count": 52,
   "id": "2ae66ad3-754e-4099-a16a-87277cc974cf",
   "metadata": {},
   "outputs": [
    {
     "name": "stdout",
     "output_type": "stream",
     "text": [
      "Final Result with All Predictions : \n",
      "+-------------+----------+--------------------+----------+----------+\n",
      "|ProductId_idx| ProductId|         productName|UserId_idx|prediction|\n",
      "+-------------+----------+--------------------+----------+----------+\n",
      "|       1683.0|B002KNY7RC|Royal Pet Supplie...|       1.0|  2.742775|\n",
      "|       1135.0|B000J36EQC|Celestial Seasoni...|       1.0|  2.662858|\n",
      "|       1324.0|B000JWGFRG|Walden Farms Dres...|       1.0| 2.6009102|\n",
      "|        858.0|B004JWS0CA|Timothy's World C...|       1.0|   2.54002|\n",
      "|       1953.0|B001C2CM60|Canidae Dog Treat...|       1.0| 4.3676386|\n",
      "|       2289.0|B000C4QQ16|Coopers DIY Beer ...|       1.0| 3.3344333|\n",
      "|        116.0|B00389Q4XW|Keurig Green Moun...|       1.0| 2.9199066|\n",
      "|       2183.0|B005NDXHAY|Old-Fashioned Chr...|       1.0| 4.2591596|\n",
      "|        258.0|B002BCE9JS|Iams Veterinary F...|       1.0| 3.5287197|\n",
      "|       3091.0|B0004LYJ84|Hunt's Milk Choco...|       1.0| 2.5005333|\n",
      "|       2306.0|B000FA3980|Sociables Baked C...|       1.0| 3.2414315|\n",
      "|       4618.0|B004X8TFZG|If You Care Parch...|       1.0| 4.7862334|\n",
      "|       1810.0|B000633WEW|Bil Jac Dog Food ...|       1.0| 3.7668653|\n",
      "|       1030.0|B001BBTD32|Canidae Goodness ...|       1.0| 4.3854065|\n",
      "|       4607.0|B004VMTJO6|Oskri Coconut Bar...|       1.0| 3.5331686|\n",
      "|       1966.0|B001EO6FTG|Fazer Marianne Ch...|       1.0|  5.313955|\n",
      "|        165.0|B000EGZ9AG|RiceSelect Organi...|       1.0| 4.0435925|\n",
      "|       1152.0|B000V9CLBG|Nips Caramel Cand...|       1.0|  3.869295|\n",
      "|        368.0|B000ETGBOQ|Sesmark Gluten Fr...|       1.0| 3.6490858|\n",
      "|       3403.0|B000OX8AKK|Kong Squeaker Lar...|       1.0| 4.3728137|\n",
      "+-------------+----------+--------------------+----------+----------+\n",
      "only showing top 20 rows\n",
      "\n",
      "Final Result with Prediction under 5 : \n",
      "+-------------+----------+--------------------+----------+----------+\n",
      "|ProductId_idx| ProductId|         productName|UserId_idx|prediction|\n",
      "+-------------+----------+--------------------+----------+----------+\n",
      "|       1683.0|B002KNY7RC|Royal Pet Supplie...|       1.0|  2.742775|\n",
      "|       1135.0|B000J36EQC|Celestial Seasoni...|       1.0|  2.662858|\n",
      "|       1324.0|B000JWGFRG|Walden Farms Dres...|       1.0| 2.6009102|\n",
      "|        858.0|B004JWS0CA|Timothy's World C...|       1.0|   2.54002|\n",
      "|       1953.0|B001C2CM60|Canidae Dog Treat...|       1.0| 4.3676386|\n",
      "|       2289.0|B000C4QQ16|Coopers DIY Beer ...|       1.0| 3.3344333|\n",
      "|        116.0|B00389Q4XW|Keurig Green Moun...|       1.0| 2.9199066|\n",
      "|       2183.0|B005NDXHAY|Old-Fashioned Chr...|       1.0| 4.2591596|\n",
      "|        258.0|B002BCE9JS|Iams Veterinary F...|       1.0| 3.5287197|\n",
      "|       3091.0|B0004LYJ84|Hunt's Milk Choco...|       1.0| 2.5005333|\n",
      "|       2306.0|B000FA3980|Sociables Baked C...|       1.0| 3.2414315|\n",
      "|       4618.0|B004X8TFZG|If You Care Parch...|       1.0| 4.7862334|\n",
      "|       1810.0|B000633WEW|Bil Jac Dog Food ...|       1.0| 3.7668653|\n",
      "|       1030.0|B001BBTD32|Canidae Goodness ...|       1.0| 4.3854065|\n",
      "|       4607.0|B004VMTJO6|Oskri Coconut Bar...|       1.0| 3.5331686|\n",
      "|        165.0|B000EGZ9AG|RiceSelect Organi...|       1.0| 4.0435925|\n",
      "|       1152.0|B000V9CLBG|Nips Caramel Cand...|       1.0|  3.869295|\n",
      "|        368.0|B000ETGBOQ|Sesmark Gluten Fr...|       1.0| 3.6490858|\n",
      "|       3403.0|B000OX8AKK|Kong Squeaker Lar...|       1.0| 4.3728137|\n",
      "|       1236.0|B003WE8KLW|Peanut Butter & C...|       1.0| 2.9358058|\n",
      "+-------------+----------+--------------------+----------+----------+\n",
      "only showing top 20 rows\n",
      "\n"
     ]
    }
   ],
   "source": [
    "df1_no_duplicates = joined_df1.dropDuplicates()\n",
    "df2_no_duplicates = joined_df2.dropDuplicates()\n",
    "\n",
    "print('Final Result with All Predictions : ')\n",
    "df1_no_duplicates.show()\n",
    "\n",
    "print('Final Result with Prediction under 5 : ')\n",
    "df2_no_duplicates.show()"
   ]
  },
  {
   "cell_type": "code",
   "execution_count": 60,
   "id": "a608d0bc-99d9-44e7-8a8f-e2d6a13ba38f",
   "metadata": {},
   "outputs": [
    {
     "name": "stdout",
     "output_type": "stream",
     "text": [
      "+-------------+----------+--------------------+----------+----------+\n",
      "|ProductId_idx| ProductId|         productName|UserId_idx|prediction|\n",
      "+-------------+----------+--------------------+----------+----------+\n",
      "|       4286.0|B0043320ZS|CELSIUS Essential...|       1.0| 6.0721054|\n",
      "|       4285.0|B0042GXRMQ|See's Candies 1 l...|       1.0|  6.051318|\n",
      "|       4284.0|B0042GLX0Y|Nescafe Gold Blen...|       1.0|  5.992488|\n",
      "|       3906.0|B00290RPPC|Hunt's Snack Pack...|       1.0|  5.948937|\n",
      "|       4908.0|B00724ENGY|Friskies Sea Capt...|       1.0| 5.7928624|\n",
      "|       4140.0|B003FSWRY6|Lawry's Szechuan ...|       1.0| 5.7803173|\n",
      "|       4170.0|B003KDCJYY|All Day Energy 2o...|       1.0| 5.7774453|\n",
      "|       1917.0|B000VSDCH4|Indomie Instant F...|       1.0|  5.737784|\n",
      "|       2519.0|B001FA1K5S|Nestle Nesquik Po...|       1.0|  5.696372|\n",
      "|       2519.0|B001FA1K5S|Cameron's Coffee ...|       1.0|  5.696372|\n",
      "|       4339.0|B0046H89Z6|Italian Products ...|       1.0|  5.675676|\n",
      "|       3934.0|B002BEXUW8|Smith & Wollensky...|       1.0| 5.6559386|\n",
      "|       4471.0|B004HSR356|Blackberry Honey ...|       1.0|  5.644398|\n",
      "|       3400.0|B000OJEUC6|Kool-Aid Sugar Fr...|       1.0| 5.6393538|\n",
      "|       4470.0|B004HOSHU0|Blue Diamond Almo...|       1.0|  5.634323|\n",
      "|       4175.0|B003KSWFVQ|Dilmah T-Series G...|       1.0| 5.6211367|\n",
      "|       4472.0|B004HWXIAG|Zuke's Hip Action...|       1.0|   5.59138|\n",
      "|       5043.0|B008A1L5UK|Black Sixlets Can...|       1.0| 5.5792847|\n",
      "|       4408.0|B004B30K3Y|NuttZo Seven Nut ...|       1.0|  5.553299|\n",
      "|       4824.0|B0064KU9HO|Back to Nature Cr...|       1.0| 5.5264244|\n",
      "+-------------+----------+--------------------+----------+----------+\n",
      "only showing top 20 rows\n",
      "\n",
      "+-------------+----------+--------------------+----------+----------+\n",
      "|ProductId_idx| ProductId|         productName|UserId_idx|prediction|\n",
      "+-------------+----------+--------------------+----------+----------+\n",
      "|       4997.0|B007VF9ERW|Manitoba Harvest ...|       1.0|   4.99862|\n",
      "|       5042.0|B008A0ACNC|Dalat Highlands R...|       1.0|  4.997739|\n",
      "|       2051.0|B002PH1WB2|Maruman Organic W...|       1.0|   4.99549|\n",
      "|       1943.0|B0017T1LI8|Ito En Tea Peach,...|       1.0| 4.9918957|\n",
      "|       3930.0|B002AUBIWW|Kuchenmeister Liq...|       1.0| 4.9888153|\n",
      "|       5050.0|B008EMZJMU|Mom's Best Instan...|       1.0|  4.984451|\n",
      "|       4205.0|B003SBRTSO|Hansen's Beverage...|       1.0| 4.9839497|\n",
      "|       3526.0|B0011BPDHC|Beefeaters Top Ch...|       1.0|  4.981721|\n",
      "|       1915.0|B000VK9VQS|Harney & Sons Whi...|       1.0|  4.977693|\n",
      "|       2588.0|B0023UL7S4|Rawhide Brand 9-I...|       1.0|  4.976767|\n",
      "|       4885.0|B006WVH7NE|Annie's Homegrown...|       1.0|  4.976284|\n",
      "|       4548.0|B004QXELMK|Brigittine Monks ...|       1.0|  4.975373|\n",
      "|       2900.0|B0066DMI6Y|Giant Candy Cane ...|       1.0|  4.974605|\n",
      "|       5040.0|B0088F94EC|Twinings Green Te...|       1.0|  4.973839|\n",
      "|       4643.0|B0050ILFCO|mix 1 Enhanced Pr...|       1.0|  4.971432|\n",
      "|       4555.0|B004RJPSWU|Kinder Schoco-Bon...|       1.0| 4.9697285|\n",
      "|       1902.0|B000QNQZM8|Sumac 4.0 oz by Z...|       1.0|  4.968112|\n",
      "|       1902.0|B000QNQZM8|Fussie Cat Super ...|       1.0|  4.968112|\n",
      "|       3593.0|B0017SRF52|Canadian Steak Bl...|       1.0|   4.96625|\n",
      "|       2249.0|B0001N4886|Octavia Tea Mango...|       1.0|   4.96487|\n",
      "+-------------+----------+--------------------+----------+----------+\n",
      "only showing top 20 rows\n",
      "\n"
     ]
    }
   ],
   "source": [
    "df_sorted1 = df1_no_duplicates.orderBy(df1_no_duplicates[\"prediction\"].desc())\n",
    "df_sorted2 = df2_no_duplicates.orderBy(df2_no_duplicates[\"prediction\"].desc())\n",
    "\n",
    "\n",
    "df_sorted1.show()\n",
    "df_sorted2.show()"
   ]
  },
  {
   "cell_type": "markdown",
   "id": "f0be3caa-91e5-41d1-8675-a35bf65b62cc",
   "metadata": {},
   "source": [
    "## Show top 5 Product with highest score for User Id 1 using model.recommendForUserSubset"
   ]
  },
  {
   "cell_type": "code",
   "execution_count": 35,
   "id": "1854c0cd-3ec3-4ead-9df6-5914d650f0b3",
   "metadata": {},
   "outputs": [
    {
     "name": "stdout",
     "output_type": "stream",
     "text": [
      "+----------+-----------------------------------+\n",
      "|UserId_idx|                      ProductId_idx|\n",
      "+----------+-----------------------------------+\n",
      "|         1|[27889, 14987, 14836, 14986, 14988]|\n",
      "+----------+-----------------------------------+\n",
      "\n",
      "+----------+------------------------------------------------------+\n",
      "|UserId_idx|                                                rating|\n",
      "+----------+------------------------------------------------------+\n",
      "|         1|[6.8368855, 6.7330446, 6.702823, 6.6977553, 6.6963167]|\n",
      "+----------+------------------------------------------------------+\n",
      "\n"
     ]
    }
   ],
   "source": [
    "userID = recommendation.filter(recommendation['UserId_idx'] == 1)\n",
    "recommendation_forUserSubset = model.recommendForUserSubset(userID, 5)\n",
    "recommendation_forUserSubset.select(\"UserId_idx\", \"recommendations.ProductId_idx\").show(truncate=100)\n",
    "recommendation_forUserSubset.select(\"UserId_idx\", \"recommendations.rating\").show(truncate=100)"
   ]
  }
 ],
 "metadata": {
  "kernelspec": {
   "display_name": "Python 3 (ipykernel)",
   "language": "python",
   "name": "python3"
  },
  "language_info": {
   "codemirror_mode": {
    "name": "ipython",
    "version": 3
   },
   "file_extension": ".py",
   "mimetype": "text/x-python",
   "name": "python",
   "nbconvert_exporter": "python",
   "pygments_lexer": "ipython3",
   "version": "3.11.8"
  }
 },
 "nbformat": 4,
 "nbformat_minor": 5
}
